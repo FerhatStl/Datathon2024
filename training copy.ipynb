{
 "cells": [
  {
   "cell_type": "code",
   "execution_count": 1,
   "metadata": {},
   "outputs": [
    {
     "name": "stderr",
     "output_type": "stream",
     "text": [
      "C:\\Users\\ferha\\AppData\\Local\\Temp\\ipykernel_3980\\2319938952.py:6: DtypeWarning: Columns (12,27,31) have mixed types. Specify dtype option on import or set low_memory=False.\n",
      "  df = pd.read_csv('train_imputed.csv')\n"
     ]
    }
   ],
   "source": [
    "from catboost import CatBoostRegressor\n",
    "from sklearn.model_selection import train_test_split\n",
    "from sklearn.metrics import mean_squared_error\n",
    "import pandas as pd\n",
    "import numpy as np\n",
    "df = pd.read_csv('train_imputed.csv')\n"
   ]
  },
  {
   "cell_type": "code",
   "execution_count": 2,
   "metadata": {},
   "outputs": [
    {
     "name": "stdout",
     "output_type": "stream",
     "text": [
      "1. Basvuru Yili\n",
      "2. Degerlendirme Puani\n",
      "3. Cinsiyet\n",
      "4. Dogum Yeri\n",
      "5. Ikametgah Sehri\n",
      "6. Universite Adi\n",
      "7. Universite Turu\n",
      "8. Burslu ise Burs Yuzdesi\n",
      "9. Burs Aliyor mu?\n",
      "10. Bölüm\n",
      "11. Universite Kacinci Sinif\n",
      "12. Universite Not Ortalamasi\n",
      "13. Daha Once Baska Bir Universiteden Mezun Olmus\n",
      "14. Lise Turu\n",
      "15. Lise Mezuniyet Notu\n",
      "16. Baska Bir Kurumdan Burs Aliyor mu?\n",
      "17. Burs Aldigi Baska Kurum\n",
      "18. Anne Egitim Durumu\n",
      "19. Anne Calisma Durumu\n",
      "20. Anne Sektor\n",
      "21. Baba Egitim Durumu\n",
      "22. Baba Calisma Durumu\n",
      "23. Baba Sektor\n",
      "24. Kardes Sayisi\n",
      "25. Girisimcilik Kulupleri Tarzi Bir Kulube Uye misiniz?\n",
      "26. Profesyonel Bir Spor Daliyla Mesgul musunuz?\n",
      "27. Aktif olarak bir STK üyesi misiniz?\n",
      "28. Stk Projesine Katildiniz Mi?\n",
      "29. Girisimcilikle Ilgili Deneyiminiz Var Mi?\n",
      "30. Ingilizce Biliyor musunuz?\n",
      "31. Ingilizce Seviyeniz?\n",
      "32. Daha Önceden Mezun Olunduysa, Mezun Olunan Üniversite\n",
      "33. id\n",
      "34. Yas\n",
      "35. lise giris ort\n"
     ]
    }
   ],
   "source": [
    "\n",
    "# Get the list of column names\n",
    "column_names = df.columns.tolist()\n",
    "\n",
    "for i, column in enumerate(column_names):\n",
    "    print(f\"{i+1}. {column}\")\n"
   ]
  },
  {
   "cell_type": "raw",
   "metadata": {
    "vscode": {
     "languageId": "raw"
    }
   },
   "source": [
    "df.drop(columns=['Daha Önceden Mezun Olunduysa, Mezun Olunan Üniversite'], inplace=True)"
   ]
  },
  {
   "cell_type": "code",
   "execution_count": 3,
   "metadata": {},
   "outputs": [
    {
     "name": "stdout",
     "output_type": "stream",
     "text": [
      "['Degerlendirme Puani', 'Burslu ise Burs Yuzdesi', 'Universite Kacinci Sinif', 'Universite Not Ortalamasi', 'Lise Mezuniyet Notu', 'Anne Egitim Durumu', 'Baba Egitim Durumu', 'Kardes Sayisi', 'Ingilizce Seviyeniz?', 'id', 'Yas', 'lise giris ort']\n"
     ]
    }
   ],
   "source": [
    "categorical_features = ['Basvuru Yili', 'Cinsiyet', 'Dogum Yeri', 'Ikametgah Sehri',\n",
    "                        'Universite Adi', 'Universite Turu', 'Burs Aliyor mu?','Bölüm','Daha Once Baska Bir Universiteden Mezun Olmus',\n",
    "                        'Lise Turu','Baska Bir Kurumdan Burs Aliyor mu?','Anne Calisma Durumu','Anne Sektor','Baba Calisma Durumu',\n",
    "                        'Baba Sektor','Girisimcilik Kulupleri Tarzi Bir Kulube Uye misiniz?','Profesyonel Bir Spor Daliyla Mesgul musunuz?','Aktif olarak bir STK üyesi misiniz?',\n",
    "                        'Stk Projesine Katildiniz Mi?','Girisimcilikle Ilgili Deneyiminiz Var Mi?',\n",
    "                        'Ingilizce Biliyor musunuz?', 'Burs Aldigi Baska Kurum', 'Daha Önceden Mezun Olunduysa, Mezun Olunan Üniversite']\n",
    "\n",
    "numerical_features = [column for column in df.columns if column not in categorical_features]\n",
    "print(numerical_features)\n",
    "\n",
    "# Fill missing values in categorical features\n",
    "df[categorical_features] = df[categorical_features].fillna(\"0\").astype(str)\n",
    "\n",
    "# Fill missing values in numerical features\n",
    "df[numerical_features] = df[numerical_features].fillna(0)\n",
    "\n",
    "\n",
    "X = df.drop(['Degerlendirme Puani', 'id'], axis=1)  # Drop target and id columns\n",
    "y = df['Degerlendirme Puani']\n",
    "\n",
    "# Split into training and validation sets\n",
    "X_train, X_val, y_train, y_val = train_test_split(X, y, test_size=0.2, random_state=42)\n",
    "\n",
    "y_train = y_train.fillna(y_train.mean())\n",
    "y_val = y_val.fillna(y_val.mean())\n"
   ]
  },
  {
   "cell_type": "code",
   "execution_count": 6,
   "metadata": {},
   "outputs": [
    {
     "data": {
      "text/plain": [
       "['Basvuru Yili',\n",
       " 'Cinsiyet',\n",
       " 'Dogum Yeri',\n",
       " 'Ikametgah Sehri',\n",
       " 'Universite Adi',\n",
       " 'Universite Turu',\n",
       " 'Burs Aliyor mu?',\n",
       " 'Bölüm',\n",
       " 'Daha Once Baska Bir Universiteden Mezun Olmus',\n",
       " 'Lise Turu',\n",
       " 'Baska Bir Kurumdan Burs Aliyor mu?',\n",
       " 'Anne Calisma Durumu',\n",
       " 'Anne Sektor',\n",
       " 'Baba Calisma Durumu',\n",
       " 'Baba Sektor',\n",
       " 'Girisimcilik Kulupleri Tarzi Bir Kulube Uye misiniz?',\n",
       " 'Profesyonel Bir Spor Daliyla Mesgul musunuz?',\n",
       " 'Aktif olarak bir STK üyesi misiniz?',\n",
       " 'Stk Projesine Katildiniz Mi?',\n",
       " 'Girisimcilikle Ilgili Deneyiminiz Var Mi?',\n",
       " 'Ingilizce Biliyor musunuz?',\n",
       " 'Burs Aldigi Baska Kurum',\n",
       " 'Daha Önceden Mezun Olunduysa, Mezun Olunan Üniversite']"
      ]
     },
     "execution_count": 6,
     "metadata": {},
     "output_type": "execute_result"
    }
   ],
   "source": [
    "categorical_features\n"
   ]
  },
  {
   "cell_type": "code",
   "execution_count": 5,
   "metadata": {},
   "outputs": [
    {
     "data": {
      "text/plain": [
       "['Degerlendirme Puani',\n",
       " 'Burslu ise Burs Yuzdesi',\n",
       " 'Universite Kacinci Sinif',\n",
       " 'Universite Not Ortalamasi',\n",
       " 'Lise Mezuniyet Notu',\n",
       " 'Anne Egitim Durumu',\n",
       " 'Baba Egitim Durumu',\n",
       " 'Kardes Sayisi',\n",
       " 'Ingilizce Seviyeniz?',\n",
       " 'id',\n",
       " 'Yas',\n",
       " 'lise giris ort']"
      ]
     },
     "execution_count": 5,
     "metadata": {},
     "output_type": "execute_result"
    }
   ],
   "source": [
    "\n",
    "numerical_features"
   ]
  },
  {
   "cell_type": "code",
   "execution_count": 10,
   "metadata": {},
   "outputs": [
    {
     "data": {
      "application/vnd.jupyter.widget-view+json": {
       "model_id": "90882752741541c8b9ab97b15bfc978c",
       "version_major": 2,
       "version_minor": 0
      },
      "text/plain": [
       "MetricVisualizer(layout=Layout(align_self='stretch', height='500px'))"
      ]
     },
     "metadata": {},
     "output_type": "display_data"
    },
    {
     "name": "stdout",
     "output_type": "stream",
     "text": [
      "0:\tlearn: 16.6793832\ttest: 16.7243154\tbest: 16.7243154 (0)\ttotal: 51.4ms\tremaining: 2m 34s\n",
      "100:\tlearn: 5.7381406\ttest: 5.7697306\tbest: 5.7697306 (100)\ttotal: 5.53s\tremaining: 2m 38s\n",
      "200:\tlearn: 5.5611116\ttest: 5.6919476\tbest: 5.6919476 (200)\ttotal: 11.1s\tremaining: 2m 34s\n",
      "300:\tlearn: 5.4502855\ttest: 5.6566386\tbest: 5.6561427 (296)\ttotal: 16.6s\tremaining: 2m 28s\n",
      "400:\tlearn: 5.3614487\ttest: 5.6404364\tbest: 5.6399791 (394)\ttotal: 22.3s\tremaining: 2m 24s\n",
      "500:\tlearn: 5.2866732\ttest: 5.6351745\tbest: 5.6351745 (500)\ttotal: 27.8s\tremaining: 2m 18s\n",
      "600:\tlearn: 5.2033488\ttest: 5.6290471\tbest: 5.6290471 (600)\ttotal: 33.4s\tremaining: 2m 13s\n",
      "700:\tlearn: 5.1191565\ttest: 5.6261742\tbest: 5.6259002 (699)\ttotal: 39s\tremaining: 2m 7s\n",
      "800:\tlearn: 5.0414263\ttest: 5.6255008\tbest: 5.6245162 (757)\ttotal: 44.6s\tremaining: 2m 2s\n",
      "900:\tlearn: 4.9683816\ttest: 5.6267303\tbest: 5.6245162 (757)\ttotal: 50.2s\tremaining: 1m 57s\n",
      "1000:\tlearn: 4.8932672\ttest: 5.6282879\tbest: 5.6245162 (757)\ttotal: 55.9s\tremaining: 1m 51s\n",
      "1100:\tlearn: 4.8243027\ttest: 5.6271984\tbest: 5.6245162 (757)\ttotal: 1m 2s\tremaining: 1m 48s\n",
      "1200:\tlearn: 4.7549068\ttest: 5.6269424\tbest: 5.6245162 (757)\ttotal: 1m 8s\tremaining: 1m 42s\n",
      "1300:\tlearn: 4.6865952\ttest: 5.6319602\tbest: 5.6245162 (757)\ttotal: 1m 14s\tremaining: 1m 37s\n",
      "1400:\tlearn: 4.6311272\ttest: 5.6336284\tbest: 5.6245162 (757)\ttotal: 1m 19s\tremaining: 1m 31s\n",
      "1500:\tlearn: 4.5657166\ttest: 5.6370680\tbest: 5.6245162 (757)\ttotal: 1m 25s\tremaining: 1m 25s\n",
      "1600:\tlearn: 4.5105275\ttest: 5.6374751\tbest: 5.6245162 (757)\ttotal: 1m 31s\tremaining: 1m 20s\n",
      "1700:\tlearn: 4.4495433\ttest: 5.6398955\tbest: 5.6245162 (757)\ttotal: 1m 37s\tremaining: 1m 14s\n",
      "1800:\tlearn: 4.3931958\ttest: 5.6437296\tbest: 5.6245162 (757)\ttotal: 1m 43s\tremaining: 1m 8s\n",
      "1900:\tlearn: 4.3398431\ttest: 5.6459753\tbest: 5.6245162 (757)\ttotal: 1m 48s\tremaining: 1m 2s\n",
      "2000:\tlearn: 4.2876937\ttest: 5.6476345\tbest: 5.6245162 (757)\ttotal: 1m 54s\tremaining: 57.3s\n",
      "2100:\tlearn: 4.2364699\ttest: 5.6464357\tbest: 5.6245162 (757)\ttotal: 2m\tremaining: 51.6s\n",
      "2200:\tlearn: 4.1867648\ttest: 5.6477377\tbest: 5.6245162 (757)\ttotal: 2m 6s\tremaining: 45.9s\n",
      "2300:\tlearn: 4.1398101\ttest: 5.6478719\tbest: 5.6245162 (757)\ttotal: 2m 12s\tremaining: 40.2s\n",
      "2400:\tlearn: 4.0903434\ttest: 5.6514328\tbest: 5.6245162 (757)\ttotal: 2m 18s\tremaining: 34.5s\n",
      "2500:\tlearn: 4.0408134\ttest: 5.6547156\tbest: 5.6245162 (757)\ttotal: 2m 23s\tremaining: 28.7s\n",
      "2600:\tlearn: 3.9941395\ttest: 5.6543526\tbest: 5.6245162 (757)\ttotal: 2m 29s\tremaining: 22.9s\n",
      "2700:\tlearn: 3.9435584\ttest: 5.6551575\tbest: 5.6245162 (757)\ttotal: 2m 35s\tremaining: 17.2s\n",
      "2800:\tlearn: 3.8970352\ttest: 5.6583262\tbest: 5.6245162 (757)\ttotal: 2m 41s\tremaining: 11.5s\n",
      "2900:\tlearn: 3.8482069\ttest: 5.6595218\tbest: 5.6245162 (757)\ttotal: 2m 46s\tremaining: 5.7s\n",
      "2999:\tlearn: 3.8063686\ttest: 5.6610069\tbest: 5.6245162 (757)\ttotal: 2m 52s\tremaining: 0us\n",
      "bestTest = 5.624516187\n",
      "bestIteration = 757\n",
      "Shrink model to first 758 iterations.\n",
      "RMSE: 5.6245165645298725\n"
     ]
    },
    {
     "name": "stderr",
     "output_type": "stream",
     "text": [
      "c:\\Users\\ferha\\.conda\\envs\\datathon\\Lib\\site-packages\\sklearn\\metrics\\_regression.py:492: FutureWarning: 'squared' is deprecated in version 1.4 and will be removed in 1.6. To calculate the root mean squared error, use the function'root_mean_squared_error'.\n",
      "  warnings.warn(\n"
     ]
    }
   ],
   "source": [
    "\n",
    "# Initialize CatBoost regressor\n",
    "model = CatBoostRegressor(\n",
    "    iterations=3000,          # Number of boosting rounds\n",
    "    learning_rate=0.1,        # Step size\n",
    "    depth=7,                  # Depth of the trees\n",
    "    cat_features=categorical_features,  # Categorical feature indices\n",
    "    use_best_model=True,      # Use the best model from the iterations\n",
    "    verbose=100,               # Prints training progress every 100 iterations\n",
    "    task_type=\"GPU\",\n",
    "    devices='0'\n",
    ")\n",
    "\n",
    "# Train the model\n",
    "model.fit(X_train, y_train, eval_set=(X_val, y_val), use_best_model=True, plot=True)\n",
    "\n",
    "\n",
    "\n",
    "# Make predictions\n",
    "y_pred = model.predict(X_val)\n",
    "\n",
    "# Evaluate model performance\n",
    "rmse = mean_squared_error(y_val, y_pred, squared=False)\n",
    "print(f\"RMSE: {rmse}\")\n",
    "\n",
    "# Save the trained model\n",
    "model.save_model('catboost_model_1.bin')"
   ]
  },
  {
   "cell_type": "code",
   "execution_count": 11,
   "metadata": {},
   "outputs": [
    {
     "data": {
      "application/vnd.jupyter.widget-view+json": {
       "model_id": "d45d1b006c2d4208afabc10e3ee85f3a",
       "version_major": 2,
       "version_minor": 0
      },
      "text/plain": [
       "MetricVisualizer(layout=Layout(align_self='stretch', height='500px'))"
      ]
     },
     "metadata": {},
     "output_type": "display_data"
    },
    {
     "name": "stdout",
     "output_type": "stream",
     "text": [
      "0:\tlearn: 16.6618244\ttest: 16.7044473\tbest: 16.7044473 (0)\ttotal: 55.9ms\tremaining: 2m 47s\n",
      "100:\tlearn: 5.6519965\ttest: 5.7593207\tbest: 5.7593207 (100)\ttotal: 6.68s\tremaining: 3m 11s\n",
      "200:\tlearn: 5.4511759\ttest: 5.6867060\tbest: 5.6865075 (197)\ttotal: 13.1s\tremaining: 3m 2s\n",
      "300:\tlearn: 5.3006321\ttest: 5.6534167\tbest: 5.6534167 (300)\ttotal: 19.3s\tremaining: 2m 52s\n",
      "400:\tlearn: 5.1617291\ttest: 5.6479410\tbest: 5.6476277 (397)\ttotal: 25.7s\tremaining: 2m 46s\n",
      "500:\tlearn: 5.0445965\ttest: 5.6453108\tbest: 5.6449594 (491)\ttotal: 32.1s\tremaining: 2m 40s\n",
      "600:\tlearn: 4.9141990\ttest: 5.6411101\tbest: 5.6407930 (599)\ttotal: 38.7s\tremaining: 2m 34s\n",
      "700:\tlearn: 4.7911977\ttest: 5.6391938\tbest: 5.6380653 (641)\ttotal: 45s\tremaining: 2m 27s\n",
      "800:\tlearn: 4.6776196\ttest: 5.6358036\tbest: 5.6354838 (796)\ttotal: 51.4s\tremaining: 2m 21s\n",
      "900:\tlearn: 4.5740304\ttest: 5.6392055\tbest: 5.6352922 (807)\ttotal: 58.3s\tremaining: 2m 15s\n",
      "1000:\tlearn: 4.4718542\ttest: 5.6407760\tbest: 5.6352922 (807)\ttotal: 1m 5s\tremaining: 2m 9s\n",
      "1100:\tlearn: 4.3740162\ttest: 5.6425505\tbest: 5.6352922 (807)\ttotal: 1m 11s\tremaining: 2m 3s\n",
      "1200:\tlearn: 4.2845564\ttest: 5.6448325\tbest: 5.6352922 (807)\ttotal: 1m 18s\tremaining: 1m 56s\n",
      "1300:\tlearn: 4.1938515\ttest: 5.6462842\tbest: 5.6352922 (807)\ttotal: 1m 24s\tremaining: 1m 50s\n",
      "1400:\tlearn: 4.0978400\ttest: 5.6491037\tbest: 5.6352922 (807)\ttotal: 1m 31s\tremaining: 1m 44s\n",
      "1500:\tlearn: 4.0169256\ttest: 5.6492921\tbest: 5.6352922 (807)\ttotal: 1m 37s\tremaining: 1m 37s\n",
      "1600:\tlearn: 3.9346331\ttest: 5.6516612\tbest: 5.6352922 (807)\ttotal: 1m 44s\tremaining: 1m 31s\n",
      "1700:\tlearn: 3.8579168\ttest: 5.6532058\tbest: 5.6352922 (807)\ttotal: 1m 51s\tremaining: 1m 24s\n",
      "1800:\tlearn: 3.7830000\ttest: 5.6533182\tbest: 5.6352922 (807)\ttotal: 1m 57s\tremaining: 1m 18s\n",
      "1900:\tlearn: 3.7069158\ttest: 5.6583822\tbest: 5.6352922 (807)\ttotal: 2m 4s\tremaining: 1m 12s\n",
      "2000:\tlearn: 3.6283646\ttest: 5.6567181\tbest: 5.6352922 (807)\ttotal: 2m 11s\tremaining: 1m 5s\n",
      "2100:\tlearn: 3.5581106\ttest: 5.6588320\tbest: 5.6352922 (807)\ttotal: 2m 18s\tremaining: 59.2s\n",
      "2200:\tlearn: 3.4916237\ttest: 5.6628192\tbest: 5.6352922 (807)\ttotal: 2m 25s\tremaining: 52.7s\n",
      "2300:\tlearn: 3.4258121\ttest: 5.6672585\tbest: 5.6352922 (807)\ttotal: 2m 31s\tremaining: 46.1s\n",
      "2400:\tlearn: 3.3607235\ttest: 5.6704520\tbest: 5.6352922 (807)\ttotal: 2m 38s\tremaining: 39.6s\n",
      "2500:\tlearn: 3.2969943\ttest: 5.6725456\tbest: 5.6352922 (807)\ttotal: 2m 46s\tremaining: 33.1s\n",
      "2600:\tlearn: 3.2352014\ttest: 5.6765217\tbest: 5.6352922 (807)\ttotal: 2m 53s\tremaining: 26.6s\n",
      "2700:\tlearn: 3.1755321\ttest: 5.6786663\tbest: 5.6352922 (807)\ttotal: 3m\tremaining: 20s\n",
      "2800:\tlearn: 3.1188786\ttest: 5.6809528\tbest: 5.6352922 (807)\ttotal: 3m 8s\tremaining: 13.4s\n",
      "2900:\tlearn: 3.0579941\ttest: 5.6831333\tbest: 5.6352922 (807)\ttotal: 3m 16s\tremaining: 6.69s\n",
      "2999:\tlearn: 3.0009228\ttest: 5.6870572\tbest: 5.6352922 (807)\ttotal: 3m 23s\tremaining: 0us\n",
      "bestTest = 5.635292247\n",
      "bestIteration = 807\n",
      "Shrink model to first 808 iterations.\n",
      "RMSE: 5.635292545499709\n"
     ]
    },
    {
     "name": "stderr",
     "output_type": "stream",
     "text": [
      "c:\\Users\\ferha\\.conda\\envs\\datathon\\Lib\\site-packages\\sklearn\\metrics\\_regression.py:492: FutureWarning: 'squared' is deprecated in version 1.4 and will be removed in 1.6. To calculate the root mean squared error, use the function'root_mean_squared_error'.\n",
      "  warnings.warn(\n"
     ]
    }
   ],
   "source": [
    "\n",
    "# Initialize CatBoost regressor\n",
    "model = CatBoostRegressor(\n",
    "    iterations=3000,          # Number of boosting rounds\n",
    "    learning_rate=0.1,        # Step size\n",
    "    depth=8,                  # Depth of the trees\n",
    "    cat_features=categorical_features,  # Categorical feature indices\n",
    "    use_best_model=True,      # Use the best model from the iterations\n",
    "    verbose=100,               # Prints training progress every 100 iterations\n",
    "    task_type=\"GPU\",\n",
    "    devices='0'\n",
    ")\n",
    "\n",
    "# Train the model\n",
    "model.fit(X_train, y_train, eval_set=(X_val, y_val), use_best_model=True, plot=True)\n",
    "\n",
    "# Make predictions\n",
    "y_pred = model.predict(X_val)\n",
    "\n",
    "# Evaluate model performance\n",
    "rmse = mean_squared_error(y_val, y_pred, squared=False)\n",
    "print(f\"RMSE: {rmse}\")\n",
    "\n",
    "# Save the trained model\n",
    "model.save_model('catboost_model_2_depth8.bin')"
   ]
  },
  {
   "cell_type": "code",
   "execution_count": 12,
   "metadata": {},
   "outputs": [
    {
     "data": {
      "application/vnd.jupyter.widget-view+json": {
       "model_id": "f976503d0d8743a78b7931e00cab892c",
       "version_major": 2,
       "version_minor": 0
      },
      "text/plain": [
       "MetricVisualizer(layout=Layout(align_self='stretch', height='500px'))"
      ]
     },
     "metadata": {},
     "output_type": "display_data"
    },
    {
     "name": "stdout",
     "output_type": "stream",
     "text": [
      "0:\tlearn: 16.7220566\ttest: 16.7731494\tbest: 16.7731494 (0)\ttotal: 49.8ms\tremaining: 2m 29s\n",
      "100:\tlearn: 5.8311021\ttest: 5.8238628\tbest: 5.8238628 (100)\ttotal: 4.88s\tremaining: 2m 20s\n",
      "200:\tlearn: 5.6574482\ttest: 5.7085092\tbest: 5.7085092 (200)\ttotal: 9.85s\tremaining: 2m 17s\n",
      "300:\tlearn: 5.5648045\ttest: 5.6756182\tbest: 5.6756182 (300)\ttotal: 14.8s\tremaining: 2m 12s\n",
      "400:\tlearn: 5.5000702\ttest: 5.6553582\tbest: 5.6553582 (400)\ttotal: 19.7s\tremaining: 2m 7s\n",
      "500:\tlearn: 5.4404848\ttest: 5.6459183\tbest: 5.6458467 (499)\ttotal: 24.7s\tremaining: 2m 3s\n",
      "600:\tlearn: 5.3828469\ttest: 5.6339158\tbest: 5.6339158 (600)\ttotal: 29.5s\tremaining: 1m 57s\n",
      "700:\tlearn: 5.3308285\ttest: 5.6286752\tbest: 5.6286752 (700)\ttotal: 34.3s\tremaining: 1m 52s\n",
      "800:\tlearn: 5.2799813\ttest: 5.6199238\tbest: 5.6194608 (793)\ttotal: 39.3s\tremaining: 1m 47s\n",
      "900:\tlearn: 5.2249941\ttest: 5.6162618\tbest: 5.6150995 (886)\ttotal: 44.2s\tremaining: 1m 42s\n",
      "1000:\tlearn: 5.1787515\ttest: 5.6116144\tbest: 5.6109110 (990)\ttotal: 49.3s\tremaining: 1m 38s\n",
      "1100:\tlearn: 5.1359698\ttest: 5.6102033\tbest: 5.6096480 (1082)\ttotal: 54.3s\tremaining: 1m 33s\n",
      "1200:\tlearn: 5.0923101\ttest: 5.6066237\tbest: 5.6066237 (1200)\ttotal: 59.2s\tremaining: 1m 28s\n",
      "1300:\tlearn: 5.0489951\ttest: 5.6088885\tbest: 5.6066237 (1200)\ttotal: 1m 4s\tremaining: 1m 23s\n",
      "1400:\tlearn: 5.0060362\ttest: 5.6071126\tbest: 5.6061260 (1339)\ttotal: 1m 9s\tremaining: 1m 18s\n",
      "1500:\tlearn: 4.9661363\ttest: 5.6042166\tbest: 5.6038203 (1473)\ttotal: 1m 14s\tremaining: 1m 14s\n",
      "1600:\tlearn: 4.9246481\ttest: 5.6004526\tbest: 5.5996463 (1596)\ttotal: 1m 19s\tremaining: 1m 9s\n",
      "1700:\tlearn: 4.8878095\ttest: 5.6002024\tbest: 5.5995563 (1626)\ttotal: 1m 24s\tremaining: 1m 4s\n",
      "1800:\tlearn: 4.8504761\ttest: 5.6010975\tbest: 5.5987047 (1721)\ttotal: 1m 29s\tremaining: 59.4s\n",
      "1900:\tlearn: 4.8131186\ttest: 5.6022471\tbest: 5.5987047 (1721)\ttotal: 1m 34s\tremaining: 54.6s\n",
      "2000:\tlearn: 4.7765527\ttest: 5.6029109\tbest: 5.5987047 (1721)\ttotal: 1m 39s\tremaining: 49.6s\n",
      "2100:\tlearn: 4.7400583\ttest: 5.6031151\tbest: 5.5987047 (1721)\ttotal: 1m 44s\tremaining: 44.7s\n",
      "2200:\tlearn: 4.7051002\ttest: 5.6032650\tbest: 5.5987047 (1721)\ttotal: 1m 49s\tremaining: 39.8s\n",
      "2300:\tlearn: 4.6719923\ttest: 5.6039064\tbest: 5.5987047 (1721)\ttotal: 1m 54s\tremaining: 34.8s\n",
      "2400:\tlearn: 4.6385798\ttest: 5.6051810\tbest: 5.5987047 (1721)\ttotal: 1m 59s\tremaining: 29.8s\n",
      "2500:\tlearn: 4.6066369\ttest: 5.6063897\tbest: 5.5987047 (1721)\ttotal: 2m 4s\tremaining: 24.9s\n",
      "2600:\tlearn: 4.5717932\ttest: 5.6085497\tbest: 5.5987047 (1721)\ttotal: 2m 9s\tremaining: 19.9s\n",
      "2700:\tlearn: 4.5409311\ttest: 5.6100536\tbest: 5.5987047 (1721)\ttotal: 2m 14s\tremaining: 14.9s\n",
      "2800:\tlearn: 4.5065750\ttest: 5.6116249\tbest: 5.5987047 (1721)\ttotal: 2m 19s\tremaining: 9.93s\n",
      "2900:\tlearn: 4.4746898\ttest: 5.6134857\tbest: 5.5987047 (1721)\ttotal: 2m 24s\tremaining: 4.95s\n",
      "2999:\tlearn: 4.4449207\ttest: 5.6136367\tbest: 5.5987047 (1721)\ttotal: 2m 30s\tremaining: 0us\n",
      "bestTest = 5.598704693\n",
      "bestIteration = 1721\n",
      "Shrink model to first 1722 iterations.\n",
      "RMSE: 5.598704497873703\n"
     ]
    },
    {
     "name": "stderr",
     "output_type": "stream",
     "text": [
      "c:\\Users\\ferha\\.conda\\envs\\datathon\\Lib\\site-packages\\sklearn\\metrics\\_regression.py:492: FutureWarning: 'squared' is deprecated in version 1.4 and will be removed in 1.6. To calculate the root mean squared error, use the function'root_mean_squared_error'.\n",
      "  warnings.warn(\n"
     ]
    }
   ],
   "source": [
    "\n",
    "# Initialize CatBoost regressor\n",
    "model = CatBoostRegressor(\n",
    "    iterations=3000,          # Number of boosting rounds\n",
    "    learning_rate=0.1,        # Step size\n",
    "    depth=6,                  # Depth of the trees\n",
    "    cat_features=categorical_features,  # Categorical feature indices\n",
    "    use_best_model=True,      # Use the best model from the iterations\n",
    "    verbose=100,               # Prints training progress every 100 iterations\n",
    "    task_type=\"GPU\",\n",
    "    devices='0'\n",
    ")\n",
    "\n",
    "# Train the model\n",
    "model.fit(X_train, y_train, eval_set=(X_val, y_val), use_best_model=True, plot=True)\n",
    "\n",
    "# Make predictions\n",
    "y_pred = model.predict(X_val)\n",
    "\n",
    "# Evaluate model performance\n",
    "rmse = mean_squared_error(y_val, y_pred, squared=False)\n",
    "print(f\"RMSE: {rmse}\")\n",
    "\n",
    "# Save the trained model\n",
    "model.save_model('catboost_model_3_depth6.bin')"
   ]
  },
  {
   "cell_type": "code",
   "execution_count": 14,
   "metadata": {},
   "outputs": [
    {
     "data": {
      "application/vnd.jupyter.widget-view+json": {
       "model_id": "4604878d4bbe4130b3004790157396c3",
       "version_major": 2,
       "version_minor": 0
      },
      "text/plain": [
       "MetricVisualizer(layout=Layout(align_self='stretch', height='500px'))"
      ]
     },
     "metadata": {},
     "output_type": "display_data"
    },
    {
     "name": "stdout",
     "output_type": "stream",
     "text": [
      "0:\tlearn: 16.7847517\ttest: 16.8340363\tbest: 16.8340363 (0)\ttotal: 42.1ms\tremaining: 2m 48s\n",
      "100:\tlearn: 5.9225708\ttest: 5.8979998\tbest: 5.8979998 (100)\ttotal: 4.08s\tremaining: 2m 37s\n",
      "200:\tlearn: 5.7435376\ttest: 5.7669168\tbest: 5.7669168 (200)\ttotal: 8.06s\tremaining: 2m 32s\n",
      "300:\tlearn: 5.6570027\ttest: 5.7160201\tbest: 5.7159517 (299)\ttotal: 12.1s\tremaining: 2m 28s\n",
      "400:\tlearn: 5.6003693\ttest: 5.6885969\tbest: 5.6885969 (400)\ttotal: 16.1s\tremaining: 2m 24s\n",
      "500:\tlearn: 5.5609108\ttest: 5.6789835\tbest: 5.6789214 (483)\ttotal: 20.3s\tremaining: 2m 21s\n",
      "600:\tlearn: 5.5176336\ttest: 5.6651846\tbest: 5.6650831 (595)\ttotal: 24.4s\tremaining: 2m 18s\n",
      "700:\tlearn: 5.4839545\ttest: 5.6543513\tbest: 5.6542476 (699)\ttotal: 28.6s\tremaining: 2m 14s\n",
      "800:\tlearn: 5.4436200\ttest: 5.6441241\tbest: 5.6441241 (800)\ttotal: 32.7s\tremaining: 2m 10s\n",
      "900:\tlearn: 5.4125164\ttest: 5.6388419\tbest: 5.6378828 (888)\ttotal: 36.9s\tremaining: 2m 7s\n",
      "1000:\tlearn: 5.3836469\ttest: 5.6375257\tbest: 5.6370625 (914)\ttotal: 41.1s\tremaining: 2m 3s\n",
      "1100:\tlearn: 5.3551924\ttest: 5.6368671\tbest: 5.6360658 (1050)\ttotal: 45.3s\tremaining: 1m 59s\n",
      "1200:\tlearn: 5.3270128\ttest: 5.6336248\tbest: 5.6330802 (1175)\ttotal: 49.4s\tremaining: 1m 55s\n",
      "1300:\tlearn: 5.2996643\ttest: 5.6265318\tbest: 5.6265318 (1300)\ttotal: 53.6s\tremaining: 1m 51s\n",
      "1400:\tlearn: 5.2731106\ttest: 5.6250304\tbest: 5.6249425 (1399)\ttotal: 57.7s\tremaining: 1m 47s\n",
      "1500:\tlearn: 5.2469951\ttest: 5.6235555\tbest: 5.6235555 (1500)\ttotal: 1m 1s\tremaining: 1m 43s\n",
      "1600:\tlearn: 5.2242330\ttest: 5.6229159\tbest: 5.6220375 (1581)\ttotal: 1m 6s\tremaining: 1m 38s\n",
      "1700:\tlearn: 5.1965689\ttest: 5.6171189\tbest: 5.6171127 (1697)\ttotal: 1m 10s\tremaining: 1m 35s\n",
      "1800:\tlearn: 5.1701804\ttest: 5.6162140\tbest: 5.6157840 (1795)\ttotal: 1m 15s\tremaining: 1m 32s\n",
      "1900:\tlearn: 5.1467882\ttest: 5.6172646\tbest: 5.6153559 (1831)\ttotal: 1m 20s\tremaining: 1m 28s\n",
      "2000:\tlearn: 5.1237781\ttest: 5.6148865\tbest: 5.6144175 (1967)\ttotal: 1m 24s\tremaining: 1m 24s\n",
      "2100:\tlearn: 5.0964488\ttest: 5.6134164\tbest: 5.6124493 (2071)\ttotal: 1m 29s\tremaining: 1m 20s\n",
      "2200:\tlearn: 5.0721455\ttest: 5.6134453\tbest: 5.6124493 (2071)\ttotal: 1m 33s\tremaining: 1m 16s\n",
      "2300:\tlearn: 5.0498342\ttest: 5.6162753\tbest: 5.6124493 (2071)\ttotal: 1m 37s\tremaining: 1m 12s\n",
      "2400:\tlearn: 5.0278390\ttest: 5.6146128\tbest: 5.6124493 (2071)\ttotal: 1m 41s\tremaining: 1m 7s\n",
      "2500:\tlearn: 5.0071822\ttest: 5.6148038\tbest: 5.6124493 (2071)\ttotal: 1m 46s\tremaining: 1m 3s\n",
      "2600:\tlearn: 4.9854488\ttest: 5.6136615\tbest: 5.6124493 (2071)\ttotal: 1m 50s\tremaining: 59.5s\n",
      "2700:\tlearn: 4.9639366\ttest: 5.6134416\tbest: 5.6124068 (2634)\ttotal: 1m 54s\tremaining: 55.3s\n",
      "2800:\tlearn: 4.9427056\ttest: 5.6124577\tbest: 5.6122486 (2796)\ttotal: 1m 59s\tremaining: 51.1s\n",
      "2900:\tlearn: 4.9206703\ttest: 5.6117072\tbest: 5.6109700 (2854)\ttotal: 2m 3s\tremaining: 46.9s\n",
      "3000:\tlearn: 4.8987023\ttest: 5.6106765\tbest: 5.6099123 (2964)\ttotal: 2m 8s\tremaining: 42.6s\n",
      "3100:\tlearn: 4.8804007\ttest: 5.6114711\tbest: 5.6099123 (2964)\ttotal: 2m 12s\tremaining: 38.4s\n",
      "3200:\tlearn: 4.8594186\ttest: 5.6117937\tbest: 5.6099123 (2964)\ttotal: 2m 16s\tremaining: 34.1s\n",
      "3300:\tlearn: 4.8370213\ttest: 5.6151843\tbest: 5.6099123 (2964)\ttotal: 2m 21s\tremaining: 29.9s\n",
      "3400:\tlearn: 4.8169472\ttest: 5.6150572\tbest: 5.6099123 (2964)\ttotal: 2m 25s\tremaining: 25.6s\n",
      "3500:\tlearn: 4.7984595\ttest: 5.6163261\tbest: 5.6099123 (2964)\ttotal: 2m 29s\tremaining: 21.4s\n",
      "3600:\tlearn: 4.7782271\ttest: 5.6160425\tbest: 5.6099123 (2964)\ttotal: 2m 34s\tremaining: 17.1s\n",
      "3700:\tlearn: 4.7586528\ttest: 5.6149147\tbest: 5.6099123 (2964)\ttotal: 2m 38s\tremaining: 12.8s\n",
      "3800:\tlearn: 4.7384393\ttest: 5.6142351\tbest: 5.6099123 (2964)\ttotal: 2m 43s\tremaining: 8.55s\n",
      "3900:\tlearn: 4.7210780\ttest: 5.6147534\tbest: 5.6099123 (2964)\ttotal: 2m 47s\tremaining: 4.26s\n",
      "3999:\tlearn: 4.7034835\ttest: 5.6152478\tbest: 5.6099123 (2964)\ttotal: 2m 52s\tremaining: 0us\n",
      "bestTest = 5.609912267\n",
      "bestIteration = 2964\n",
      "Shrink model to first 2965 iterations.\n"
     ]
    },
    {
     "name": "stderr",
     "output_type": "stream",
     "text": [
      "c:\\Users\\ferha\\.conda\\envs\\datathon\\Lib\\site-packages\\sklearn\\metrics\\_regression.py:492: FutureWarning: 'squared' is deprecated in version 1.4 and will be removed in 1.6. To calculate the root mean squared error, use the function'root_mean_squared_error'.\n",
      "  warnings.warn(\n"
     ]
    },
    {
     "name": "stdout",
     "output_type": "stream",
     "text": [
      "RMSE: 5.609912655804014\n"
     ]
    }
   ],
   "source": [
    "\n",
    "# Initialize CatBoost regressor\n",
    "model = CatBoostRegressor(\n",
    "    iterations=4000,          # Number of boosting rounds\n",
    "    learning_rate=0.1,        # Step size\n",
    "    depth=5,                  # Depth of the trees\n",
    "    cat_features=categorical_features,  # Categorical feature indices\n",
    "    verbose=100,               # Prints training progress every 100 iterations\n",
    "    task_type=\"GPU\",\n",
    "    devices='0'\n",
    ")\n",
    "\n",
    "# Train the model\n",
    "model.fit(X_train, y_train, eval_set=(X_val, y_val), use_best_model=True, plot=True)\n",
    "\n",
    "# Make predictions\n",
    "y_pred = model.predict(X_val)\n",
    "\n",
    "# Evaluate model performance\n",
    "rmse = mean_squared_error(y_val, y_pred, squared=False)\n",
    "print(f\"RMSE: {rmse}\")\n",
    "\n",
    "# Save the trained model\n",
    "model.save_model('catboost_model_depth5.bin')"
   ]
  },
  {
   "cell_type": "code",
   "execution_count": 16,
   "metadata": {},
   "outputs": [
    {
     "data": {
      "application/vnd.jupyter.widget-view+json": {
       "model_id": "9d629eb7509e43f1b2d9216b0927c118",
       "version_major": 2,
       "version_minor": 0
      },
      "text/plain": [
       "MetricVisualizer(layout=Layout(align_self='stretch', height='500px'))"
      ]
     },
     "metadata": {},
     "output_type": "display_data"
    },
    {
     "name": "stdout",
     "output_type": "stream",
     "text": [
      "0:\tlearn: 16.9809586\ttest: 17.0311727\tbest: 17.0311727 (0)\ttotal: 26.7ms\tremaining: 8m 54s\n",
      "100:\tlearn: 6.2369045\ttest: 6.1795902\tbest: 6.1795902 (100)\ttotal: 2.47s\tremaining: 8m 6s\n",
      "200:\tlearn: 5.9407204\ttest: 5.8995846\tbest: 5.8995846 (200)\ttotal: 4.79s\tremaining: 7m 51s\n",
      "300:\tlearn: 5.8421464\ttest: 5.8211316\tbest: 5.8211316 (300)\ttotal: 7.24s\tremaining: 7m 53s\n",
      "400:\tlearn: 5.7881013\ttest: 5.7809349\tbest: 5.7807979 (398)\ttotal: 9.58s\tremaining: 7m 48s\n",
      "500:\tlearn: 5.7477766\ttest: 5.7552056\tbest: 5.7552056 (500)\ttotal: 11.9s\tremaining: 7m 43s\n",
      "600:\tlearn: 5.7170591\ttest: 5.7371608\tbest: 5.7371608 (600)\ttotal: 14.4s\tremaining: 7m 43s\n",
      "700:\tlearn: 5.6913807\ttest: 5.7233952\tbest: 5.7233952 (700)\ttotal: 16.8s\tremaining: 7m 41s\n",
      "800:\tlearn: 5.6725665\ttest: 5.7135075\tbest: 5.7134661 (798)\ttotal: 19.2s\tremaining: 7m 39s\n",
      "900:\tlearn: 5.6578280\ttest: 5.7084809\tbest: 5.7083569 (898)\ttotal: 21.6s\tremaining: 7m 37s\n",
      "1000:\tlearn: 5.6430396\ttest: 5.7029518\tbest: 5.7028668 (997)\ttotal: 24.1s\tremaining: 7m 36s\n",
      "1100:\tlearn: 5.6264000\ttest: 5.6929305\tbest: 5.6929305 (1100)\ttotal: 26.6s\tremaining: 7m 36s\n",
      "1200:\tlearn: 5.6108298\ttest: 5.6843070\tbest: 5.6843011 (1199)\ttotal: 29s\tremaining: 7m 33s\n",
      "1300:\tlearn: 5.5989706\ttest: 5.6820417\tbest: 5.6818531 (1290)\ttotal: 31.6s\tremaining: 7m 34s\n",
      "1400:\tlearn: 5.5881024\ttest: 5.6767539\tbest: 5.6766168 (1385)\ttotal: 34.2s\tremaining: 7m 33s\n",
      "1500:\tlearn: 5.5763519\ttest: 5.6703841\tbest: 5.6703598 (1497)\ttotal: 37s\tremaining: 7m 36s\n",
      "1600:\tlearn: 5.5692260\ttest: 5.6699326\tbest: 5.6698402 (1596)\ttotal: 39.5s\tremaining: 7m 33s\n",
      "1700:\tlearn: 5.5597336\ttest: 5.6679957\tbest: 5.6679367 (1694)\ttotal: 42s\tremaining: 7m 31s\n",
      "1800:\tlearn: 5.5506160\ttest: 5.6643655\tbest: 5.6643354 (1796)\ttotal: 44.4s\tremaining: 7m 28s\n",
      "1900:\tlearn: 5.5403369\ttest: 5.6612243\tbest: 5.6612243 (1900)\ttotal: 46.8s\tremaining: 7m 25s\n",
      "2000:\tlearn: 5.5323037\ttest: 5.6595256\tbest: 5.6593448 (1983)\ttotal: 49.2s\tremaining: 7m 22s\n",
      "2100:\tlearn: 5.5218403\ttest: 5.6580536\tbest: 5.6577069 (2044)\ttotal: 51.6s\tremaining: 7m 19s\n",
      "2200:\tlearn: 5.5134883\ttest: 5.6569987\tbest: 5.6563103 (2192)\ttotal: 54s\tremaining: 7m 16s\n",
      "2300:\tlearn: 5.5045497\ttest: 5.6534426\tbest: 5.6534426 (2300)\ttotal: 56.5s\tremaining: 7m 14s\n",
      "2400:\tlearn: 5.4958604\ttest: 5.6522591\tbest: 5.6522591 (2400)\ttotal: 58.9s\tremaining: 7m 11s\n",
      "2500:\tlearn: 5.4869219\ttest: 5.6505125\tbest: 5.6505125 (2500)\ttotal: 1m 1s\tremaining: 7m 9s\n",
      "2600:\tlearn: 5.4776040\ttest: 5.6472143\tbest: 5.6472143 (2600)\ttotal: 1m 3s\tremaining: 7m 6s\n",
      "2700:\tlearn: 5.4704173\ttest: 5.6463537\tbest: 5.6463537 (2700)\ttotal: 1m 6s\tremaining: 7m 4s\n",
      "2800:\tlearn: 5.4632765\ttest: 5.6475733\tbest: 5.6463537 (2700)\ttotal: 1m 8s\tremaining: 7m 1s\n",
      "2900:\tlearn: 5.4549131\ttest: 5.6451192\tbest: 5.6450981 (2898)\ttotal: 1m 11s\tremaining: 6m 59s\n",
      "3000:\tlearn: 5.4483874\ttest: 5.6431768\tbest: 5.6431293 (2994)\ttotal: 1m 13s\tremaining: 6m 57s\n",
      "3100:\tlearn: 5.4410750\ttest: 5.6413260\tbest: 5.6409989 (3083)\ttotal: 1m 16s\tremaining: 6m 55s\n",
      "3200:\tlearn: 5.4334009\ttest: 5.6407322\tbest: 5.6406104 (3197)\ttotal: 1m 18s\tremaining: 6m 52s\n",
      "3300:\tlearn: 5.4271006\ttest: 5.6401905\tbest: 5.6401599 (3299)\ttotal: 1m 21s\tremaining: 6m 50s\n",
      "3400:\tlearn: 5.4197188\ttest: 5.6389855\tbest: 5.6389808 (3399)\ttotal: 1m 23s\tremaining: 6m 48s\n",
      "3500:\tlearn: 5.4129069\ttest: 5.6375957\tbest: 5.6373148 (3484)\ttotal: 1m 26s\tremaining: 6m 46s\n",
      "3600:\tlearn: 5.4046874\ttest: 5.6343212\tbest: 5.6341609 (3597)\ttotal: 1m 28s\tremaining: 6m 44s\n",
      "3700:\tlearn: 5.3993995\ttest: 5.6331761\tbest: 5.6331020 (3699)\ttotal: 1m 31s\tremaining: 6m 42s\n",
      "3800:\tlearn: 5.3928028\ttest: 5.6337906\tbest: 5.6331020 (3699)\ttotal: 1m 34s\tremaining: 6m 41s\n",
      "3900:\tlearn: 5.3865217\ttest: 5.6324871\tbest: 5.6324592 (3897)\ttotal: 1m 37s\tremaining: 6m 41s\n",
      "4000:\tlearn: 5.3807231\ttest: 5.6314924\tbest: 5.6314924 (4000)\ttotal: 1m 39s\tremaining: 6m 38s\n",
      "4100:\tlearn: 5.3739696\ttest: 5.6308727\tbest: 5.6301963 (4053)\ttotal: 1m 42s\tremaining: 6m 35s\n",
      "4200:\tlearn: 5.3672719\ttest: 5.6283086\tbest: 5.6282994 (4199)\ttotal: 1m 44s\tremaining: 6m 33s\n",
      "4300:\tlearn: 5.3614030\ttest: 5.6276504\tbest: 5.6268045 (4290)\ttotal: 1m 46s\tremaining: 6m 30s\n",
      "4400:\tlearn: 5.3542945\ttest: 5.6267198\tbest: 5.6266186 (4387)\ttotal: 1m 49s\tremaining: 6m 28s\n",
      "4500:\tlearn: 5.3477449\ttest: 5.6262791\tbest: 5.6261983 (4491)\ttotal: 1m 52s\tremaining: 6m 25s\n",
      "4600:\tlearn: 5.3413380\ttest: 5.6246941\tbest: 5.6243878 (4560)\ttotal: 1m 54s\tremaining: 6m 23s\n",
      "4700:\tlearn: 5.3356171\ttest: 5.6257591\tbest: 5.6243878 (4560)\ttotal: 1m 57s\tremaining: 6m 21s\n",
      "4800:\tlearn: 5.3298065\ttest: 5.6258834\tbest: 5.6243878 (4560)\ttotal: 1m 59s\tremaining: 6m 18s\n",
      "4900:\tlearn: 5.3244928\ttest: 5.6267597\tbest: 5.6243878 (4560)\ttotal: 2m 2s\tremaining: 6m 16s\n",
      "5000:\tlearn: 5.3184909\ttest: 5.6262401\tbest: 5.6243878 (4560)\ttotal: 2m 4s\tremaining: 6m 13s\n",
      "5100:\tlearn: 5.3128346\ttest: 5.6248112\tbest: 5.6243878 (4560)\ttotal: 2m 7s\tremaining: 6m 11s\n",
      "5200:\tlearn: 5.3060926\ttest: 5.6246290\tbest: 5.6243878 (4560)\ttotal: 2m 9s\tremaining: 6m 8s\n",
      "5300:\tlearn: 5.3007089\ttest: 5.6243330\tbest: 5.6240826 (5252)\ttotal: 2m 12s\tremaining: 6m 6s\n",
      "5400:\tlearn: 5.2953955\ttest: 5.6245399\tbest: 5.6239597 (5327)\ttotal: 2m 14s\tremaining: 6m 4s\n",
      "5500:\tlearn: 5.2892174\ttest: 5.6238213\tbest: 5.6235843 (5488)\ttotal: 2m 17s\tremaining: 6m 2s\n",
      "5600:\tlearn: 5.2833344\ttest: 5.6238264\tbest: 5.6231886 (5533)\ttotal: 2m 20s\tremaining: 6m\n",
      "5700:\tlearn: 5.2786107\ttest: 5.6233138\tbest: 5.6229842 (5663)\ttotal: 2m 22s\tremaining: 5m 57s\n",
      "5800:\tlearn: 5.2737392\ttest: 5.6233349\tbest: 5.6229842 (5663)\ttotal: 2m 25s\tremaining: 5m 55s\n",
      "5900:\tlearn: 5.2686236\ttest: 5.6225022\tbest: 5.6220019 (5887)\ttotal: 2m 27s\tremaining: 5m 52s\n",
      "6000:\tlearn: 5.2637771\ttest: 5.6228912\tbest: 5.6220019 (5887)\ttotal: 2m 30s\tremaining: 5m 50s\n",
      "6100:\tlearn: 5.2579715\ttest: 5.6224470\tbest: 5.6220019 (5887)\ttotal: 2m 32s\tremaining: 5m 47s\n",
      "6200:\tlearn: 5.2532268\ttest: 5.6221815\tbest: 5.6217033 (6180)\ttotal: 2m 35s\tremaining: 5m 45s\n",
      "6300:\tlearn: 5.2489202\ttest: 5.6222620\tbest: 5.6217033 (6180)\ttotal: 2m 37s\tremaining: 5m 42s\n",
      "6400:\tlearn: 5.2435242\ttest: 5.6235531\tbest: 5.6217033 (6180)\ttotal: 2m 40s\tremaining: 5m 40s\n",
      "6500:\tlearn: 5.2384028\ttest: 5.6228534\tbest: 5.6217033 (6180)\ttotal: 2m 42s\tremaining: 5m 37s\n",
      "6600:\tlearn: 5.2330203\ttest: 5.6214680\tbest: 5.6209609 (6581)\ttotal: 2m 45s\tremaining: 5m 35s\n",
      "6700:\tlearn: 5.2284965\ttest: 5.6210702\tbest: 5.6209609 (6581)\ttotal: 2m 47s\tremaining: 5m 32s\n",
      "6800:\tlearn: 5.2236764\ttest: 5.6216993\tbest: 5.6207622 (6715)\ttotal: 2m 50s\tremaining: 5m 30s\n",
      "6900:\tlearn: 5.2185389\ttest: 5.6210725\tbest: 5.6206073 (6859)\ttotal: 2m 52s\tremaining: 5m 27s\n",
      "7000:\tlearn: 5.2136577\ttest: 5.6209257\tbest: 5.6206073 (6859)\ttotal: 2m 55s\tremaining: 5m 25s\n",
      "7100:\tlearn: 5.2088272\ttest: 5.6212499\tbest: 5.6206073 (6859)\ttotal: 2m 57s\tremaining: 5m 22s\n",
      "7200:\tlearn: 5.2037647\ttest: 5.6212070\tbest: 5.6203189 (7140)\ttotal: 3m\tremaining: 5m 20s\n",
      "7300:\tlearn: 5.1993116\ttest: 5.6201526\tbest: 5.6201462 (7299)\ttotal: 3m 2s\tremaining: 5m 17s\n",
      "7400:\tlearn: 5.1945255\ttest: 5.6201469\tbest: 5.6197718 (7341)\ttotal: 3m 5s\tremaining: 5m 15s\n",
      "7500:\tlearn: 5.1890873\ttest: 5.6196732\tbest: 5.6193492 (7437)\ttotal: 3m 7s\tremaining: 5m 12s\n",
      "7600:\tlearn: 5.1850296\ttest: 5.6187127\tbest: 5.6187127 (7600)\ttotal: 3m 10s\tremaining: 5m 10s\n",
      "7700:\tlearn: 5.1805978\ttest: 5.6181817\tbest: 5.6181817 (7700)\ttotal: 3m 12s\tremaining: 5m 7s\n",
      "7800:\tlearn: 5.1763185\ttest: 5.6182046\tbest: 5.6178149 (7734)\ttotal: 3m 15s\tremaining: 5m 5s\n",
      "7900:\tlearn: 5.1719498\ttest: 5.6183303\tbest: 5.6178149 (7734)\ttotal: 3m 17s\tremaining: 5m 3s\n",
      "8000:\tlearn: 5.1680242\ttest: 5.6188573\tbest: 5.6178149 (7734)\ttotal: 3m 20s\tremaining: 5m\n",
      "8100:\tlearn: 5.1640699\ttest: 5.6175003\tbest: 5.6174803 (8077)\ttotal: 3m 22s\tremaining: 4m 58s\n",
      "8200:\tlearn: 5.1596468\ttest: 5.6165307\tbest: 5.6163569 (8145)\ttotal: 3m 25s\tremaining: 4m 55s\n",
      "8300:\tlearn: 5.1557603\ttest: 5.6155612\tbest: 5.6154730 (8292)\ttotal: 3m 28s\tremaining: 4m 53s\n",
      "8400:\tlearn: 5.1511315\ttest: 5.6159160\tbest: 5.6154730 (8292)\ttotal: 3m 30s\tremaining: 4m 50s\n",
      "8500:\tlearn: 5.1463850\ttest: 5.6162956\tbest: 5.6154730 (8292)\ttotal: 3m 33s\tremaining: 4m 48s\n",
      "8600:\tlearn: 5.1422386\ttest: 5.6160713\tbest: 5.6154730 (8292)\ttotal: 3m 35s\tremaining: 4m 45s\n",
      "8700:\tlearn: 5.1379354\ttest: 5.6163599\tbest: 5.6154730 (8292)\ttotal: 3m 38s\tremaining: 4m 43s\n",
      "8800:\tlearn: 5.1326387\ttest: 5.6162381\tbest: 5.6154730 (8292)\ttotal: 3m 40s\tremaining: 4m 40s\n",
      "8900:\tlearn: 5.1286581\ttest: 5.6159342\tbest: 5.6154730 (8292)\ttotal: 3m 43s\tremaining: 4m 38s\n",
      "9000:\tlearn: 5.1241958\ttest: 5.6172889\tbest: 5.6154730 (8292)\ttotal: 3m 45s\tremaining: 4m 35s\n",
      "9100:\tlearn: 5.1199675\ttest: 5.6166286\tbest: 5.6154730 (8292)\ttotal: 3m 48s\tremaining: 4m 33s\n",
      "9200:\tlearn: 5.1153428\ttest: 5.6174006\tbest: 5.6154730 (8292)\ttotal: 3m 50s\tremaining: 4m 30s\n",
      "9300:\tlearn: 5.1109668\ttest: 5.6182366\tbest: 5.6154730 (8292)\ttotal: 3m 53s\tremaining: 4m 28s\n",
      "9400:\tlearn: 5.1063857\ttest: 5.6176842\tbest: 5.6154730 (8292)\ttotal: 3m 56s\tremaining: 4m 26s\n",
      "9500:\tlearn: 5.1013406\ttest: 5.6182733\tbest: 5.6154730 (8292)\ttotal: 3m 58s\tremaining: 4m 23s\n",
      "9600:\tlearn: 5.0968290\ttest: 5.6180833\tbest: 5.6154730 (8292)\ttotal: 4m 1s\tremaining: 4m 21s\n",
      "9700:\tlearn: 5.0919383\ttest: 5.6181819\tbest: 5.6154730 (8292)\ttotal: 4m 3s\tremaining: 4m 18s\n",
      "9800:\tlearn: 5.0878952\ttest: 5.6183069\tbest: 5.6154730 (8292)\ttotal: 4m 6s\tremaining: 4m 16s\n",
      "9900:\tlearn: 5.0837015\ttest: 5.6174948\tbest: 5.6154730 (8292)\ttotal: 4m 9s\tremaining: 4m 14s\n",
      "10000:\tlearn: 5.0799845\ttest: 5.6176255\tbest: 5.6154730 (8292)\ttotal: 4m 11s\tremaining: 4m 11s\n",
      "10100:\tlearn: 5.0757567\ttest: 5.6178572\tbest: 5.6154730 (8292)\ttotal: 4m 14s\tremaining: 4m 9s\n",
      "10200:\tlearn: 5.0709177\ttest: 5.6161894\tbest: 5.6154730 (8292)\ttotal: 4m 16s\tremaining: 4m 6s\n",
      "10300:\tlearn: 5.0670514\ttest: 5.6158248\tbest: 5.6154730 (8292)\ttotal: 4m 19s\tremaining: 4m 4s\n",
      "10400:\tlearn: 5.0629604\ttest: 5.6153343\tbest: 5.6149671 (10373)\ttotal: 4m 22s\tremaining: 4m 2s\n",
      "10500:\tlearn: 5.0589699\ttest: 5.6157844\tbest: 5.6149671 (10373)\ttotal: 4m 24s\tremaining: 3m 59s\n",
      "10600:\tlearn: 5.0545966\ttest: 5.6152988\tbest: 5.6149671 (10373)\ttotal: 4m 27s\tremaining: 3m 57s\n",
      "10700:\tlearn: 5.0508684\ttest: 5.6159156\tbest: 5.6149671 (10373)\ttotal: 4m 29s\tremaining: 3m 54s\n",
      "10800:\tlearn: 5.0469932\ttest: 5.6155819\tbest: 5.6149671 (10373)\ttotal: 4m 32s\tremaining: 3m 51s\n",
      "10900:\tlearn: 5.0438071\ttest: 5.6160339\tbest: 5.6149671 (10373)\ttotal: 4m 35s\tremaining: 3m 49s\n",
      "11000:\tlearn: 5.0396818\ttest: 5.6165085\tbest: 5.6149671 (10373)\ttotal: 4m 37s\tremaining: 3m 47s\n",
      "11100:\tlearn: 5.0353332\ttest: 5.6172460\tbest: 5.6149671 (10373)\ttotal: 4m 40s\tremaining: 3m 44s\n",
      "11200:\tlearn: 5.0310538\ttest: 5.6161275\tbest: 5.6149671 (10373)\ttotal: 4m 43s\tremaining: 3m 42s\n",
      "11300:\tlearn: 5.0267485\ttest: 5.6159937\tbest: 5.6149671 (10373)\ttotal: 4m 45s\tremaining: 3m 39s\n",
      "11400:\tlearn: 5.0233655\ttest: 5.6168201\tbest: 5.6149671 (10373)\ttotal: 4m 48s\tremaining: 3m 37s\n",
      "11500:\tlearn: 5.0196297\ttest: 5.6164822\tbest: 5.6149671 (10373)\ttotal: 4m 51s\tremaining: 3m 35s\n",
      "11600:\tlearn: 5.0162930\ttest: 5.6174512\tbest: 5.6149671 (10373)\ttotal: 4m 54s\tremaining: 3m 32s\n",
      "11700:\tlearn: 5.0128305\ttest: 5.6172182\tbest: 5.6149671 (10373)\ttotal: 4m 56s\tremaining: 3m 30s\n",
      "11800:\tlearn: 5.0087474\ttest: 5.6172447\tbest: 5.6149671 (10373)\ttotal: 4m 59s\tremaining: 3m 28s\n",
      "11900:\tlearn: 5.0053728\ttest: 5.6175917\tbest: 5.6149671 (10373)\ttotal: 5m 2s\tremaining: 3m 25s\n",
      "12000:\tlearn: 5.0011844\ttest: 5.6182110\tbest: 5.6149671 (10373)\ttotal: 5m 5s\tremaining: 3m 23s\n",
      "12100:\tlearn: 4.9974254\ttest: 5.6192399\tbest: 5.6149671 (10373)\ttotal: 5m 7s\tremaining: 3m 20s\n",
      "12200:\tlearn: 4.9939486\ttest: 5.6186124\tbest: 5.6149671 (10373)\ttotal: 5m 10s\tremaining: 3m 18s\n",
      "12300:\tlearn: 4.9903818\ttest: 5.6179180\tbest: 5.6149671 (10373)\ttotal: 5m 13s\tremaining: 3m 16s\n",
      "12400:\tlearn: 4.9873068\ttest: 5.6179947\tbest: 5.6149671 (10373)\ttotal: 5m 16s\tremaining: 3m 13s\n",
      "12500:\tlearn: 4.9835829\ttest: 5.6185479\tbest: 5.6149671 (10373)\ttotal: 5m 19s\tremaining: 3m 11s\n",
      "12600:\tlearn: 4.9797098\ttest: 5.6183540\tbest: 5.6149671 (10373)\ttotal: 5m 22s\tremaining: 3m 9s\n",
      "12700:\tlearn: 4.9761217\ttest: 5.6197552\tbest: 5.6149671 (10373)\ttotal: 5m 25s\tremaining: 3m 6s\n",
      "12800:\tlearn: 4.9723880\ttest: 5.6200609\tbest: 5.6149671 (10373)\ttotal: 5m 28s\tremaining: 3m 4s\n",
      "12900:\tlearn: 4.9684023\ttest: 5.6200470\tbest: 5.6149671 (10373)\ttotal: 5m 30s\tremaining: 3m 2s\n",
      "13000:\tlearn: 4.9649020\ttest: 5.6209677\tbest: 5.6149671 (10373)\ttotal: 5m 33s\tremaining: 2m 59s\n",
      "13100:\tlearn: 4.9618966\ttest: 5.6209496\tbest: 5.6149671 (10373)\ttotal: 5m 36s\tremaining: 2m 57s\n",
      "13200:\tlearn: 4.9581567\ttest: 5.6210205\tbest: 5.6149671 (10373)\ttotal: 5m 38s\tremaining: 2m 54s\n",
      "13300:\tlearn: 4.9545315\ttest: 5.6210892\tbest: 5.6149671 (10373)\ttotal: 5m 41s\tremaining: 2m 52s\n",
      "13400:\tlearn: 4.9501801\ttest: 5.6211649\tbest: 5.6149671 (10373)\ttotal: 5m 44s\tremaining: 2m 49s\n",
      "13500:\tlearn: 4.9467760\ttest: 5.6213946\tbest: 5.6149671 (10373)\ttotal: 5m 47s\tremaining: 2m 47s\n",
      "13600:\tlearn: 4.9434145\ttest: 5.6213261\tbest: 5.6149671 (10373)\ttotal: 5m 49s\tremaining: 2m 44s\n",
      "13700:\tlearn: 4.9389755\ttest: 5.6217377\tbest: 5.6149671 (10373)\ttotal: 5m 52s\tremaining: 2m 42s\n",
      "13800:\tlearn: 4.9348751\ttest: 5.6222801\tbest: 5.6149671 (10373)\ttotal: 5m 55s\tremaining: 2m 39s\n",
      "13900:\tlearn: 4.9319566\ttest: 5.6222061\tbest: 5.6149671 (10373)\ttotal: 5m 58s\tremaining: 2m 37s\n",
      "14000:\tlearn: 4.9285684\ttest: 5.6226296\tbest: 5.6149671 (10373)\ttotal: 6m\tremaining: 2m 34s\n",
      "14100:\tlearn: 4.9245144\ttest: 5.6221730\tbest: 5.6149671 (10373)\ttotal: 6m 4s\tremaining: 2m 32s\n",
      "14200:\tlearn: 4.9208113\ttest: 5.6224738\tbest: 5.6149671 (10373)\ttotal: 6m 6s\tremaining: 2m 29s\n",
      "14300:\tlearn: 4.9172710\ttest: 5.6229603\tbest: 5.6149671 (10373)\ttotal: 6m 9s\tremaining: 2m 27s\n",
      "14400:\tlearn: 4.9141395\ttest: 5.6230230\tbest: 5.6149671 (10373)\ttotal: 6m 11s\tremaining: 2m 24s\n",
      "14500:\tlearn: 4.9103875\ttest: 5.6234753\tbest: 5.6149671 (10373)\ttotal: 6m 14s\tremaining: 2m 22s\n",
      "14600:\tlearn: 4.9063688\ttest: 5.6248645\tbest: 5.6149671 (10373)\ttotal: 6m 17s\tremaining: 2m 19s\n",
      "14700:\tlearn: 4.9028829\ttest: 5.6256341\tbest: 5.6149671 (10373)\ttotal: 6m 19s\tremaining: 2m 16s\n",
      "14800:\tlearn: 4.8992547\ttest: 5.6257345\tbest: 5.6149671 (10373)\ttotal: 6m 22s\tremaining: 2m 14s\n",
      "14900:\tlearn: 4.8953737\ttest: 5.6258520\tbest: 5.6149671 (10373)\ttotal: 6m 25s\tremaining: 2m 11s\n",
      "15000:\tlearn: 4.8914086\ttest: 5.6257964\tbest: 5.6149671 (10373)\ttotal: 6m 27s\tremaining: 2m 9s\n",
      "15100:\tlearn: 4.8880468\ttest: 5.6267831\tbest: 5.6149671 (10373)\ttotal: 6m 30s\tremaining: 2m 6s\n",
      "15200:\tlearn: 4.8841089\ttest: 5.6269870\tbest: 5.6149671 (10373)\ttotal: 6m 32s\tremaining: 2m 4s\n",
      "15300:\tlearn: 4.8812907\ttest: 5.6273801\tbest: 5.6149671 (10373)\ttotal: 6m 35s\tremaining: 2m 1s\n",
      "15400:\tlearn: 4.8775650\ttest: 5.6282182\tbest: 5.6149671 (10373)\ttotal: 6m 38s\tremaining: 1m 58s\n",
      "15500:\tlearn: 4.8743052\ttest: 5.6286939\tbest: 5.6149671 (10373)\ttotal: 6m 40s\tremaining: 1m 56s\n",
      "15600:\tlearn: 4.8708747\ttest: 5.6290392\tbest: 5.6149671 (10373)\ttotal: 6m 43s\tremaining: 1m 53s\n",
      "15700:\tlearn: 4.8677490\ttest: 5.6285652\tbest: 5.6149671 (10373)\ttotal: 6m 46s\tremaining: 1m 51s\n",
      "15800:\tlearn: 4.8646385\ttest: 5.6287645\tbest: 5.6149671 (10373)\ttotal: 6m 48s\tremaining: 1m 48s\n",
      "15900:\tlearn: 4.8611157\ttest: 5.6292523\tbest: 5.6149671 (10373)\ttotal: 6m 51s\tremaining: 1m 46s\n",
      "16000:\tlearn: 4.8575450\ttest: 5.6297002\tbest: 5.6149671 (10373)\ttotal: 6m 54s\tremaining: 1m 43s\n",
      "16100:\tlearn: 4.8544232\ttest: 5.6295990\tbest: 5.6149671 (10373)\ttotal: 6m 56s\tremaining: 1m 40s\n",
      "16200:\tlearn: 4.8502973\ttest: 5.6293166\tbest: 5.6149671 (10373)\ttotal: 6m 59s\tremaining: 1m 38s\n",
      "16300:\tlearn: 4.8471503\ttest: 5.6301159\tbest: 5.6149671 (10373)\ttotal: 7m 2s\tremaining: 1m 35s\n",
      "16400:\tlearn: 4.8435207\ttest: 5.6298492\tbest: 5.6149671 (10373)\ttotal: 7m 4s\tremaining: 1m 33s\n",
      "16500:\tlearn: 4.8399782\ttest: 5.6306098\tbest: 5.6149671 (10373)\ttotal: 7m 7s\tremaining: 1m 30s\n",
      "16600:\tlearn: 4.8370144\ttest: 5.6304762\tbest: 5.6149671 (10373)\ttotal: 7m 10s\tremaining: 1m 28s\n",
      "16700:\tlearn: 4.8342334\ttest: 5.6298163\tbest: 5.6149671 (10373)\ttotal: 7m 12s\tremaining: 1m 25s\n",
      "16800:\tlearn: 4.8312607\ttest: 5.6299020\tbest: 5.6149671 (10373)\ttotal: 7m 15s\tremaining: 1m 22s\n",
      "16900:\tlearn: 4.8274778\ttest: 5.6303109\tbest: 5.6149671 (10373)\ttotal: 7m 17s\tremaining: 1m 20s\n",
      "17000:\tlearn: 4.8241003\ttest: 5.6312295\tbest: 5.6149671 (10373)\ttotal: 7m 20s\tremaining: 1m 17s\n",
      "17100:\tlearn: 4.8213514\ttest: 5.6311090\tbest: 5.6149671 (10373)\ttotal: 7m 23s\tremaining: 1m 15s\n",
      "17200:\tlearn: 4.8180824\ttest: 5.6311441\tbest: 5.6149671 (10373)\ttotal: 7m 25s\tremaining: 1m 12s\n",
      "17300:\tlearn: 4.8150431\ttest: 5.6304517\tbest: 5.6149671 (10373)\ttotal: 7m 28s\tremaining: 1m 9s\n",
      "17400:\tlearn: 4.8119161\ttest: 5.6304430\tbest: 5.6149671 (10373)\ttotal: 7m 31s\tremaining: 1m 7s\n",
      "17500:\tlearn: 4.8086058\ttest: 5.6305331\tbest: 5.6149671 (10373)\ttotal: 7m 34s\tremaining: 1m 4s\n",
      "17600:\tlearn: 4.8055126\ttest: 5.6297854\tbest: 5.6149671 (10373)\ttotal: 7m 36s\tremaining: 1m 2s\n",
      "17700:\tlearn: 4.8025110\ttest: 5.6303333\tbest: 5.6149671 (10373)\ttotal: 7m 39s\tremaining: 59.7s\n",
      "17800:\tlearn: 4.7991070\ttest: 5.6307244\tbest: 5.6149671 (10373)\ttotal: 7m 42s\tremaining: 57.1s\n",
      "17900:\tlearn: 4.7957282\ttest: 5.6302286\tbest: 5.6149671 (10373)\ttotal: 7m 45s\tremaining: 54.5s\n",
      "18000:\tlearn: 4.7929809\ttest: 5.6302178\tbest: 5.6149671 (10373)\ttotal: 7m 47s\tremaining: 52s\n",
      "18100:\tlearn: 4.7890801\ttest: 5.6306729\tbest: 5.6149671 (10373)\ttotal: 7m 50s\tremaining: 49.4s\n",
      "18200:\tlearn: 4.7861424\ttest: 5.6311435\tbest: 5.6149671 (10373)\ttotal: 7m 53s\tremaining: 46.8s\n",
      "18300:\tlearn: 4.7828900\ttest: 5.6313618\tbest: 5.6149671 (10373)\ttotal: 7m 56s\tremaining: 44.2s\n",
      "18400:\tlearn: 4.7798489\ttest: 5.6317712\tbest: 5.6149671 (10373)\ttotal: 7m 59s\tremaining: 41.6s\n",
      "18500:\tlearn: 4.7765748\ttest: 5.6320607\tbest: 5.6149671 (10373)\ttotal: 8m 1s\tremaining: 39s\n",
      "18600:\tlearn: 4.7727808\ttest: 5.6327205\tbest: 5.6149671 (10373)\ttotal: 8m 4s\tremaining: 36.5s\n",
      "18700:\tlearn: 4.7700308\ttest: 5.6337642\tbest: 5.6149671 (10373)\ttotal: 8m 7s\tremaining: 33.9s\n",
      "18800:\tlearn: 4.7670884\ttest: 5.6346698\tbest: 5.6149671 (10373)\ttotal: 8m 10s\tremaining: 31.3s\n",
      "18900:\tlearn: 4.7639370\ttest: 5.6356205\tbest: 5.6149671 (10373)\ttotal: 8m 13s\tremaining: 28.7s\n",
      "19000:\tlearn: 4.7610637\ttest: 5.6350462\tbest: 5.6149671 (10373)\ttotal: 8m 16s\tremaining: 26.1s\n",
      "19100:\tlearn: 4.7585823\ttest: 5.6356494\tbest: 5.6149671 (10373)\ttotal: 8m 19s\tremaining: 23.5s\n",
      "19200:\tlearn: 4.7554308\ttest: 5.6364208\tbest: 5.6149671 (10373)\ttotal: 8m 21s\tremaining: 20.9s\n",
      "19300:\tlearn: 4.7524309\ttest: 5.6361863\tbest: 5.6149671 (10373)\ttotal: 8m 24s\tremaining: 18.3s\n",
      "19400:\tlearn: 4.7492928\ttest: 5.6366028\tbest: 5.6149671 (10373)\ttotal: 8m 27s\tremaining: 15.7s\n",
      "19500:\tlearn: 4.7460528\ttest: 5.6365459\tbest: 5.6149671 (10373)\ttotal: 8m 30s\tremaining: 13.1s\n",
      "19600:\tlearn: 4.7430897\ttest: 5.6359672\tbest: 5.6149671 (10373)\ttotal: 8m 33s\tremaining: 10.5s\n",
      "19700:\tlearn: 4.7404802\ttest: 5.6366485\tbest: 5.6149671 (10373)\ttotal: 8m 36s\tremaining: 7.84s\n",
      "19800:\tlearn: 4.7369342\ttest: 5.6355800\tbest: 5.6149671 (10373)\ttotal: 8m 39s\tremaining: 5.22s\n",
      "19900:\tlearn: 4.7342088\ttest: 5.6354781\tbest: 5.6149671 (10373)\ttotal: 8m 42s\tremaining: 2.6s\n",
      "19999:\tlearn: 4.7311643\ttest: 5.6364798\tbest: 5.6149671 (10373)\ttotal: 8m 45s\tremaining: 0us\n",
      "bestTest = 5.61496706\n",
      "bestIteration = 10373\n",
      "Shrink model to first 10374 iterations.\n"
     ]
    },
    {
     "name": "stderr",
     "output_type": "stream",
     "text": [
      "c:\\Users\\ferha\\.conda\\envs\\datathon\\Lib\\site-packages\\sklearn\\metrics\\_regression.py:492: FutureWarning: 'squared' is deprecated in version 1.4 and will be removed in 1.6. To calculate the root mean squared error, use the function'root_mean_squared_error'.\n",
      "  warnings.warn(\n"
     ]
    },
    {
     "name": "stdout",
     "output_type": "stream",
     "text": [
      "RMSE: 5.614966370620446\n"
     ]
    }
   ],
   "source": [
    "\n",
    "# Initialize CatBoost regressor\n",
    "model = CatBoostRegressor(\n",
    "    iterations=20000,          # Number of boosting rounds\n",
    "    learning_rate=0.1,        # Step size\n",
    "    depth=3,                  # Depth of the trees\n",
    "    cat_features=categorical_features,  # Categorical feature indices\n",
    "    use_best_model=True,      # Use the best model from the iterations\n",
    "    verbose=100,               # Prints training progress every 100 iterations\n",
    "    task_type=\"GPU\",\n",
    "    devices='0'\n",
    ")\n",
    "\n",
    "# Train the model\n",
    "model.fit(X_train, y_train, eval_set=(X_val, y_val), use_best_model=True, plot=True)\n",
    "\n",
    "# Make predictions\n",
    "y_pred = model.predict(X_val)\n",
    "\n",
    "# Evaluate model performance\n",
    "rmse = mean_squared_error(y_val, y_pred, squared=False)\n",
    "print(f\"RMSE: {rmse}\")\n",
    "\n",
    "# Save the trained model\n",
    "model.save_model('catboost_model_depth3.bin')"
   ]
  },
  {
   "cell_type": "code",
   "execution_count": 17,
   "metadata": {},
   "outputs": [
    {
     "data": {
      "application/vnd.jupyter.widget-view+json": {
       "model_id": "b47a9228d5554597ace8880a2e8b2c33",
       "version_major": 2,
       "version_minor": 0
      },
      "text/plain": [
       "MetricVisualizer(layout=Layout(align_self='stretch', height='500px'))"
      ]
     },
     "metadata": {},
     "output_type": "display_data"
    },
    {
     "name": "stdout",
     "output_type": "stream",
     "text": [
      "0:\tlearn: 16.7220566\ttest: 16.7731494\tbest: 16.7731494 (0)\ttotal: 45.4ms\tremaining: 7m 33s\n",
      "100:\tlearn: 5.8342431\ttest: 5.8288825\tbest: 5.8288825 (100)\ttotal: 5.32s\tremaining: 8m 41s\n",
      "200:\tlearn: 5.6557654\ttest: 5.7114331\tbest: 5.7114331 (200)\ttotal: 10.6s\tremaining: 8m 39s\n",
      "300:\tlearn: 5.5616599\ttest: 5.6724720\tbest: 5.6724720 (300)\ttotal: 15.6s\tremaining: 8m 24s\n",
      "400:\tlearn: 5.4995450\ttest: 5.6541190\tbest: 5.6541190 (400)\ttotal: 20.7s\tremaining: 8m 16s\n",
      "500:\tlearn: 5.4385961\ttest: 5.6401171\tbest: 5.6401171 (500)\ttotal: 25.9s\tremaining: 8m 11s\n",
      "600:\tlearn: 5.3832596\ttest: 5.6300245\tbest: 5.6300215 (599)\ttotal: 30.9s\tremaining: 8m 2s\n",
      "700:\tlearn: 5.3314219\ttest: 5.6266473\tbest: 5.6264569 (679)\ttotal: 36.1s\tremaining: 7m 59s\n",
      "800:\tlearn: 5.2807913\ttest: 5.6214663\tbest: 5.6210527 (793)\ttotal: 41.3s\tremaining: 7m 54s\n",
      "900:\tlearn: 5.2320289\ttest: 5.6182819\tbest: 5.6168069 (884)\ttotal: 46.5s\tremaining: 7m 49s\n",
      "1000:\tlearn: 5.1814270\ttest: 5.6101028\tbest: 5.6098537 (999)\ttotal: 52.4s\tremaining: 7m 51s\n",
      "1100:\tlearn: 5.1366201\ttest: 5.6113048\tbest: 5.6098460 (1020)\ttotal: 57.7s\tremaining: 7m 45s\n",
      "1200:\tlearn: 5.0909744\ttest: 5.6063064\tbest: 5.6059523 (1193)\ttotal: 1m 3s\tremaining: 7m 41s\n",
      "1300:\tlearn: 5.0476629\ttest: 5.6073386\tbest: 5.6059523 (1193)\ttotal: 1m 9s\tremaining: 7m 42s\n",
      "1400:\tlearn: 5.0050557\ttest: 5.6069603\tbest: 5.6059523 (1193)\ttotal: 1m 14s\tremaining: 7m 38s\n",
      "1500:\tlearn: 4.9653690\ttest: 5.6076344\tbest: 5.6059523 (1193)\ttotal: 1m 19s\tremaining: 7m 32s\n",
      "1600:\tlearn: 4.9257664\ttest: 5.6058787\tbest: 5.6048206 (1544)\ttotal: 1m 25s\tremaining: 7m 26s\n",
      "1700:\tlearn: 4.8835214\ttest: 5.6084244\tbest: 5.6048206 (1544)\ttotal: 1m 30s\tremaining: 7m 22s\n",
      "1800:\tlearn: 4.8471305\ttest: 5.6107248\tbest: 5.6048206 (1544)\ttotal: 1m 36s\tremaining: 7m 19s\n",
      "1900:\tlearn: 4.8101306\ttest: 5.6132418\tbest: 5.6048206 (1544)\ttotal: 1m 42s\tremaining: 7m 17s\n",
      "2000:\tlearn: 4.7779110\ttest: 5.6110015\tbest: 5.6048206 (1544)\ttotal: 1m 49s\tremaining: 7m 16s\n",
      "2100:\tlearn: 4.7442335\ttest: 5.6128328\tbest: 5.6048206 (1544)\ttotal: 1m 54s\tremaining: 7m 10s\n",
      "2200:\tlearn: 4.7100517\ttest: 5.6146053\tbest: 5.6048206 (1544)\ttotal: 1m 59s\tremaining: 7m 4s\n",
      "2300:\tlearn: 4.6749927\ttest: 5.6164671\tbest: 5.6048206 (1544)\ttotal: 2m 5s\tremaining: 6m 59s\n",
      "2400:\tlearn: 4.6426182\ttest: 5.6142156\tbest: 5.6048206 (1544)\ttotal: 2m 10s\tremaining: 6m 53s\n",
      "2500:\tlearn: 4.6115584\ttest: 5.6133658\tbest: 5.6048206 (1544)\ttotal: 2m 15s\tremaining: 6m 47s\n",
      "2600:\tlearn: 4.5744880\ttest: 5.6149042\tbest: 5.6048206 (1544)\ttotal: 2m 21s\tremaining: 6m 42s\n",
      "2700:\tlearn: 4.5366412\ttest: 5.6156161\tbest: 5.6048206 (1544)\ttotal: 2m 26s\tremaining: 6m 36s\n",
      "2800:\tlearn: 4.5039517\ttest: 5.6173051\tbest: 5.6048206 (1544)\ttotal: 2m 32s\tremaining: 6m 30s\n",
      "2900:\tlearn: 4.4730236\ttest: 5.6170835\tbest: 5.6048206 (1544)\ttotal: 2m 37s\tremaining: 6m 25s\n",
      "3000:\tlearn: 4.4431151\ttest: 5.6195707\tbest: 5.6048206 (1544)\ttotal: 2m 42s\tremaining: 6m 19s\n",
      "3100:\tlearn: 4.4107689\ttest: 5.6220940\tbest: 5.6048206 (1544)\ttotal: 2m 48s\tremaining: 6m 14s\n",
      "3200:\tlearn: 4.3792659\ttest: 5.6229628\tbest: 5.6048206 (1544)\ttotal: 2m 53s\tremaining: 6m 9s\n",
      "3300:\tlearn: 4.3461819\ttest: 5.6232692\tbest: 5.6048206 (1544)\ttotal: 2m 59s\tremaining: 6m 5s\n",
      "3400:\tlearn: 4.3170326\ttest: 5.6253117\tbest: 5.6048206 (1544)\ttotal: 3m 5s\tremaining: 6m\n",
      "3500:\tlearn: 4.2898342\ttest: 5.6268497\tbest: 5.6048206 (1544)\ttotal: 3m 10s\tremaining: 5m 54s\n",
      "3600:\tlearn: 4.2593283\ttest: 5.6285620\tbest: 5.6048206 (1544)\ttotal: 3m 16s\tremaining: 5m 48s\n",
      "3700:\tlearn: 4.2315273\ttest: 5.6311543\tbest: 5.6048206 (1544)\ttotal: 3m 21s\tremaining: 5m 42s\n",
      "3800:\tlearn: 4.2064015\ttest: 5.6304664\tbest: 5.6048206 (1544)\ttotal: 3m 26s\tremaining: 5m 36s\n",
      "3900:\tlearn: 4.1795802\ttest: 5.6313563\tbest: 5.6048206 (1544)\ttotal: 3m 31s\tremaining: 5m 30s\n",
      "4000:\tlearn: 4.1537937\ttest: 5.6322181\tbest: 5.6048206 (1544)\ttotal: 3m 36s\tremaining: 5m 25s\n",
      "4100:\tlearn: 4.1295772\ttest: 5.6325659\tbest: 5.6048206 (1544)\ttotal: 3m 41s\tremaining: 5m 19s\n",
      "4200:\tlearn: 4.1016284\ttest: 5.6320437\tbest: 5.6048206 (1544)\ttotal: 3m 47s\tremaining: 5m 13s\n",
      "4300:\tlearn: 4.0743762\ttest: 5.6317171\tbest: 5.6048206 (1544)\ttotal: 3m 52s\tremaining: 5m 8s\n",
      "4400:\tlearn: 4.0496394\ttest: 5.6332657\tbest: 5.6048206 (1544)\ttotal: 3m 57s\tremaining: 5m 2s\n",
      "4500:\tlearn: 4.0243565\ttest: 5.6349980\tbest: 5.6048206 (1544)\ttotal: 4m 3s\tremaining: 4m 56s\n",
      "4600:\tlearn: 3.9974556\ttest: 5.6374200\tbest: 5.6048206 (1544)\ttotal: 4m 8s\tremaining: 4m 51s\n",
      "4700:\tlearn: 3.9699910\ttest: 5.6387442\tbest: 5.6048206 (1544)\ttotal: 4m 14s\tremaining: 4m 46s\n",
      "4800:\tlearn: 3.9458383\ttest: 5.6391753\tbest: 5.6048206 (1544)\ttotal: 4m 19s\tremaining: 4m 41s\n",
      "4900:\tlearn: 3.9198441\ttest: 5.6415773\tbest: 5.6048206 (1544)\ttotal: 4m 25s\tremaining: 4m 36s\n",
      "5000:\tlearn: 3.8945122\ttest: 5.6420485\tbest: 5.6048206 (1544)\ttotal: 4m 30s\tremaining: 4m 30s\n",
      "5100:\tlearn: 3.8730358\ttest: 5.6428385\tbest: 5.6048206 (1544)\ttotal: 4m 35s\tremaining: 4m 24s\n",
      "5200:\tlearn: 3.8507984\ttest: 5.6467183\tbest: 5.6048206 (1544)\ttotal: 4m 41s\tremaining: 4m 19s\n",
      "5300:\tlearn: 3.8260195\ttest: 5.6468861\tbest: 5.6048206 (1544)\ttotal: 4m 46s\tremaining: 4m 13s\n",
      "5400:\tlearn: 3.8025972\ttest: 5.6486546\tbest: 5.6048206 (1544)\ttotal: 4m 51s\tremaining: 4m 8s\n",
      "5500:\tlearn: 3.7773027\ttest: 5.6498516\tbest: 5.6048206 (1544)\ttotal: 4m 56s\tremaining: 4m 2s\n",
      "5600:\tlearn: 3.7524964\ttest: 5.6505437\tbest: 5.6048206 (1544)\ttotal: 5m 2s\tremaining: 3m 57s\n",
      "5700:\tlearn: 3.7291688\ttest: 5.6501435\tbest: 5.6048206 (1544)\ttotal: 5m 7s\tremaining: 3m 51s\n",
      "5800:\tlearn: 3.7078103\ttest: 5.6493624\tbest: 5.6048206 (1544)\ttotal: 5m 12s\tremaining: 3m 46s\n",
      "5900:\tlearn: 3.6849012\ttest: 5.6499715\tbest: 5.6048206 (1544)\ttotal: 5m 18s\tremaining: 3m 41s\n",
      "6000:\tlearn: 3.6630607\ttest: 5.6500168\tbest: 5.6048206 (1544)\ttotal: 5m 24s\tremaining: 3m 36s\n",
      "6100:\tlearn: 3.6414372\ttest: 5.6513222\tbest: 5.6048206 (1544)\ttotal: 5m 30s\tremaining: 3m 31s\n",
      "6200:\tlearn: 3.6188146\ttest: 5.6515143\tbest: 5.6048206 (1544)\ttotal: 5m 35s\tremaining: 3m 25s\n",
      "6300:\tlearn: 3.5975071\ttest: 5.6525099\tbest: 5.6048206 (1544)\ttotal: 5m 41s\tremaining: 3m 20s\n",
      "6400:\tlearn: 3.5756447\ttest: 5.6533617\tbest: 5.6048206 (1544)\ttotal: 5m 47s\tremaining: 3m 15s\n",
      "6500:\tlearn: 3.5541250\ttest: 5.6532499\tbest: 5.6048206 (1544)\ttotal: 5m 52s\tremaining: 3m 9s\n",
      "6600:\tlearn: 3.5335696\ttest: 5.6547822\tbest: 5.6048206 (1544)\ttotal: 5m 58s\tremaining: 3m 4s\n",
      "6700:\tlearn: 3.5132140\ttest: 5.6540210\tbest: 5.6048206 (1544)\ttotal: 6m 4s\tremaining: 2m 59s\n",
      "6800:\tlearn: 3.4934163\ttest: 5.6551462\tbest: 5.6048206 (1544)\ttotal: 6m 10s\tremaining: 2m 54s\n",
      "6900:\tlearn: 3.4732158\ttest: 5.6568072\tbest: 5.6048206 (1544)\ttotal: 6m 16s\tremaining: 2m 48s\n",
      "7000:\tlearn: 3.4526451\ttest: 5.6566479\tbest: 5.6048206 (1544)\ttotal: 6m 21s\tremaining: 2m 43s\n",
      "7100:\tlearn: 3.4334616\ttest: 5.6576840\tbest: 5.6048206 (1544)\ttotal: 6m 26s\tremaining: 2m 37s\n",
      "7200:\tlearn: 3.4131103\ttest: 5.6583514\tbest: 5.6048206 (1544)\ttotal: 6m 31s\tremaining: 2m 32s\n",
      "7300:\tlearn: 3.3926642\ttest: 5.6593045\tbest: 5.6048206 (1544)\ttotal: 6m 37s\tremaining: 2m 26s\n",
      "7400:\tlearn: 3.3749268\ttest: 5.6606190\tbest: 5.6048206 (1544)\ttotal: 6m 43s\tremaining: 2m 21s\n",
      "7500:\tlearn: 3.3570163\ttest: 5.6615555\tbest: 5.6048206 (1544)\ttotal: 6m 48s\tremaining: 2m 16s\n",
      "7600:\tlearn: 3.3396295\ttest: 5.6626860\tbest: 5.6048206 (1544)\ttotal: 6m 54s\tremaining: 2m 10s\n",
      "7700:\tlearn: 3.3197330\ttest: 5.6628804\tbest: 5.6048206 (1544)\ttotal: 6m 59s\tremaining: 2m 5s\n",
      "7800:\tlearn: 3.3019479\ttest: 5.6641797\tbest: 5.6048206 (1544)\ttotal: 7m 5s\tremaining: 1m 59s\n",
      "7900:\tlearn: 3.2849344\ttest: 5.6656248\tbest: 5.6048206 (1544)\ttotal: 7m 10s\tremaining: 1m 54s\n",
      "8000:\tlearn: 3.2656318\ttest: 5.6663398\tbest: 5.6048206 (1544)\ttotal: 7m 16s\tremaining: 1m 48s\n",
      "8100:\tlearn: 3.2478812\ttest: 5.6664433\tbest: 5.6048206 (1544)\ttotal: 7m 22s\tremaining: 1m 43s\n",
      "8200:\tlearn: 3.2307224\ttest: 5.6675379\tbest: 5.6048206 (1544)\ttotal: 7m 27s\tremaining: 1m 38s\n",
      "8300:\tlearn: 3.2129988\ttest: 5.6680169\tbest: 5.6048206 (1544)\ttotal: 7m 33s\tremaining: 1m 32s\n",
      "8400:\tlearn: 3.1954699\ttest: 5.6680472\tbest: 5.6048206 (1544)\ttotal: 7m 39s\tremaining: 1m 27s\n",
      "8500:\tlearn: 3.1772928\ttest: 5.6684546\tbest: 5.6048206 (1544)\ttotal: 7m 44s\tremaining: 1m 21s\n",
      "8600:\tlearn: 3.1596789\ttest: 5.6699749\tbest: 5.6048206 (1544)\ttotal: 7m 50s\tremaining: 1m 16s\n",
      "8700:\tlearn: 3.1422131\ttest: 5.6713637\tbest: 5.6048206 (1544)\ttotal: 7m 56s\tremaining: 1m 11s\n",
      "8800:\tlearn: 3.1244292\ttest: 5.6724896\tbest: 5.6048206 (1544)\ttotal: 8m 2s\tremaining: 1m 5s\n",
      "8900:\tlearn: 3.1070355\ttest: 5.6731426\tbest: 5.6048206 (1544)\ttotal: 8m 9s\tremaining: 1m\n",
      "9000:\tlearn: 3.0910375\ttest: 5.6740670\tbest: 5.6048206 (1544)\ttotal: 8m 15s\tremaining: 55s\n",
      "9100:\tlearn: 3.0741543\ttest: 5.6731908\tbest: 5.6048206 (1544)\ttotal: 8m 20s\tremaining: 49.5s\n",
      "9200:\tlearn: 3.0591609\ttest: 5.6728784\tbest: 5.6048206 (1544)\ttotal: 8m 26s\tremaining: 44s\n",
      "9300:\tlearn: 3.0440956\ttest: 5.6740450\tbest: 5.6048206 (1544)\ttotal: 8m 31s\tremaining: 38.4s\n",
      "9400:\tlearn: 3.0278914\ttest: 5.6748202\tbest: 5.6048206 (1544)\ttotal: 8m 36s\tremaining: 32.9s\n",
      "9500:\tlearn: 3.0124706\ttest: 5.6763105\tbest: 5.6048206 (1544)\ttotal: 8m 42s\tremaining: 27.4s\n",
      "9600:\tlearn: 2.9954898\ttest: 5.6771383\tbest: 5.6048206 (1544)\ttotal: 8m 48s\tremaining: 22s\n",
      "9700:\tlearn: 2.9788760\ttest: 5.6763767\tbest: 5.6048206 (1544)\ttotal: 8m 54s\tremaining: 16.5s\n",
      "9800:\tlearn: 2.9625348\ttest: 5.6777644\tbest: 5.6048206 (1544)\ttotal: 9m\tremaining: 11s\n",
      "9900:\tlearn: 2.9459824\ttest: 5.6782247\tbest: 5.6048206 (1544)\ttotal: 9m 5s\tremaining: 5.45s\n",
      "9999:\tlearn: 2.9312834\ttest: 5.6792808\tbest: 5.6048206 (1544)\ttotal: 9m 10s\tremaining: 0us\n",
      "bestTest = 5.604820596\n",
      "bestIteration = 1544\n",
      "Shrink model to first 1545 iterations.\n",
      "RMSE: 5.6048196543408215\n"
     ]
    },
    {
     "name": "stderr",
     "output_type": "stream",
     "text": [
      "c:\\Users\\ferha\\.conda\\envs\\datathon\\Lib\\site-packages\\sklearn\\metrics\\_regression.py:492: FutureWarning: 'squared' is deprecated in version 1.4 and will be removed in 1.6. To calculate the root mean squared error, use the function'root_mean_squared_error'.\n",
      "  warnings.warn(\n"
     ]
    }
   ],
   "source": [
    "\n",
    "# Initialize CatBoost regressor\n",
    "model = CatBoostRegressor(\n",
    "    iterations=10000,          # Number of boosting rounds\n",
    "    learning_rate=0.1,        # Step size\n",
    "    depth=6,                  # Depth of the trees\n",
    "    cat_features=categorical_features,  # Categorical feature indices\n",
    "    use_best_model=True,      # Use the best model from the iterations\n",
    "    verbose=100,               # Prints training progress every 100 iterations\n",
    "    task_type=\"GPU\",\n",
    "    devices='0'\n",
    ")\n",
    "\n",
    "# Train the model\n",
    "model.fit(X_train, y_train, eval_set=(X_val, y_val), use_best_model=True, plot=True)\n",
    "\n",
    "# Make predictions\n",
    "y_pred = model.predict(X_val)\n",
    "\n",
    "# Evaluate model performance\n",
    "rmse = mean_squared_error(y_val, y_pred, squared=False)\n",
    "print(f\"RMSE: {rmse}\")\n",
    "\n",
    "# Save the trained model\n",
    "model.save_model('catboost_model_big_depth6.bin')"
   ]
  }
 ],
 "metadata": {
  "kernelspec": {
   "display_name": "datathon",
   "language": "python",
   "name": "python3"
  },
  "language_info": {
   "codemirror_mode": {
    "name": "ipython",
    "version": 3
   },
   "file_extension": ".py",
   "mimetype": "text/x-python",
   "name": "python",
   "nbconvert_exporter": "python",
   "pygments_lexer": "ipython3",
   "version": "3.11.9"
  }
 },
 "nbformat": 4,
 "nbformat_minor": 2
}
