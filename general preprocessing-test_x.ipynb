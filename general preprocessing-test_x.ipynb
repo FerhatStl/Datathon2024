{
 "cells": [
  {
   "cell_type": "markdown",
   "metadata": {},
   "source": [
    "1. Importing Libraries"
   ]
  },
  {
   "cell_type": "code",
   "execution_count": 2,
   "metadata": {},
   "outputs": [],
   "source": [
    "import numpy as np\n",
    "import pandas as pd\n",
    "from catboost import CatBoostRegressor\n",
    "from sklearn.model_selection import train_test_split\n",
    "from sklearn.metrics import mean_squared_error\n",
    "import json\n",
    "from cities import Cities, replace_turkish_letters\n",
    "import re\n",
    "from thefuzz import process\n",
    "#Importing pure data.\n",
    "df = pd.read_csv('test_x.csv', low_memory=False)\n",
    "lise_frame = pd.read_csv('lise_en.csv', low_memory=False)\n"
   ]
  },
  {
   "cell_type": "code",
   "execution_count": 3,
   "metadata": {},
   "outputs": [
    {
     "name": "stdout",
     "output_type": "stream",
     "text": [
      "<class 'pandas.core.frame.DataFrame'>\n",
      "RangeIndex: 11049 entries, 0 to 11048\n",
      "Data columns (total 43 columns):\n",
      " #   Column                                                     Non-Null Count  Dtype  \n",
      "---  ------                                                     --------------  -----  \n",
      " 0   Basvuru Yili                                               11049 non-null  int64  \n",
      " 1   Cinsiyet                                                   11049 non-null  object \n",
      " 2   Dogum Tarihi                                               11049 non-null  object \n",
      " 3   Dogum Yeri                                                 11049 non-null  object \n",
      " 4   Ikametgah Sehri                                            11049 non-null  object \n",
      " 5   Universite Adi                                             11049 non-null  object \n",
      " 6   Universite Turu                                            11049 non-null  object \n",
      " 7   Burslu ise Burs Yuzdesi                                    0 non-null      float64\n",
      " 8   Burs Aliyor mu?                                            11049 non-null  object \n",
      " 9   Bölüm                                                      11049 non-null  object \n",
      " 10  Universite Kacinci Sinif                                   11049 non-null  object \n",
      " 11  Universite Not Ortalamasi                                  11049 non-null  object \n",
      " 12  Daha Once Baska Bir Universiteden Mezun Olmus              0 non-null      float64\n",
      " 13  Lise Adi                                                   11049 non-null  object \n",
      " 14  Lise Adi Diger                                             0 non-null      float64\n",
      " 15  Lise Sehir                                                 11049 non-null  object \n",
      " 16  Lise Turu                                                  11049 non-null  object \n",
      " 17  Lise Bolumu                                                11049 non-null  object \n",
      " 18  Lise Bolum Diger                                           0 non-null      float64\n",
      " 19  Lise Mezuniyet Notu                                        11049 non-null  object \n",
      " 20  Baska Bir Kurumdan Burs Aliyor mu?                         11049 non-null  object \n",
      " 21  Burs Aldigi Baska Kurum                                    11049 non-null  object \n",
      " 22  Baska Kurumdan Aldigi Burs Miktari                         11049 non-null  object \n",
      " 23  Anne Egitim Durumu                                         11049 non-null  object \n",
      " 24  Anne Calisma Durumu                                        11049 non-null  object \n",
      " 25  Anne Sektor                                                11049 non-null  object \n",
      " 26  Baba Egitim Durumu                                         11049 non-null  object \n",
      " 27  Baba Calisma Durumu                                        11049 non-null  object \n",
      " 28  Baba Sektor                                                11049 non-null  object \n",
      " 29  Kardes Sayisi                                              11049 non-null  float64\n",
      " 30  Girisimcilik Kulupleri Tarzi Bir Kulube Uye misiniz?       11049 non-null  object \n",
      " 31  Uye Oldugunuz Kulubun Ismi                                 0 non-null      float64\n",
      " 32  Profesyonel Bir Spor Daliyla Mesgul musunuz?               11049 non-null  object \n",
      " 33  Spor Dalindaki Rolunuz Nedir?                              11049 non-null  object \n",
      " 34  Aktif olarak bir STK üyesi misiniz?                        11049 non-null  object \n",
      " 35  Hangi STK'nin Uyesisiniz?                                  11049 non-null  object \n",
      " 36  Stk Projesine Katildiniz Mi?                               0 non-null      float64\n",
      " 37  Girisimcilikle Ilgili Deneyiminiz Var Mi?                  11049 non-null  object \n",
      " 38  Girisimcilikle Ilgili Deneyiminizi Aciklayabilir misiniz?  11049 non-null  object \n",
      " 39  Ingilizce Biliyor musunuz?                                 11049 non-null  object \n",
      " 40  Ingilizce Seviyeniz?                                       0 non-null      float64\n",
      " 41  Daha Önceden Mezun Olunduysa, Mezun Olunan Üniversite      0 non-null      float64\n",
      " 42  id                                                         11049 non-null  int64  \n",
      "dtypes: float64(9), int64(2), object(32)\n",
      "memory usage: 3.6+ MB\n"
     ]
    }
   ],
   "source": [
    "df.info()"
   ]
  },
  {
   "cell_type": "markdown",
   "metadata": {},
   "source": [
    "2. Data Manipulation"
   ]
  },
  {
   "cell_type": "code",
   "execution_count": 4,
   "metadata": {},
   "outputs": [],
   "source": [
    "#Casting every data to lowercase letters to easily process.\n",
    "for col in df.columns:\n",
    "    if df[col].dtype == 'object':\n",
    "        df[col] = df[col].apply(replace_turkish_letters)"
   ]
  },
  {
   "cell_type": "markdown",
   "metadata": {},
   "source": [
    "2.1. Doğum Tarihi"
   ]
  },
  {
   "cell_type": "code",
   "execution_count": 5,
   "metadata": {},
   "outputs": [],
   "source": [
    "# Dictionary to map Turkish month names to English month names\n",
    "turkish_to_english_months = {\n",
    "    'ocak': 'january',\n",
    "    'şubat': 'february',\n",
    "    'mart': 'march',\n",
    "    'nisan': 'april',\n",
    "    'mayıs': 'may',\n",
    "    'haziran': 'june',\n",
    "    'temmuz': 'july',\n",
    "    'ağustos': 'august',\n",
    "    'eylül': 'september',\n",
    "    'ekim': 'october',\n",
    "    'kasım': 'november',\n",
    "    'aralık': 'december',\n",
    "    'kasim': 'november',\n",
    "    'mayis': 'may',\n",
    "    'aralik': 'december'\n",
    "}\n",
    "\n",
    "# Function to replace Turkish month names with English month names\n",
    "def replace_turkish_months(date_str):\n",
    "    for turkish, english in turkish_to_english_months.items():\n",
    "        date_str = date_str.replace(turkish, english)\n",
    "    return date_str\n",
    "\n",
    "# Iterate over each row in the 'Dogum Tarihi' column\n",
    "for index, row in df.iterrows():\n",
    "    dogum_tarihi = str(row['Dogum Tarihi'])\n",
    "\n",
    "    # Replace Turkish month names with English month names\n",
    "    dogum_tarihi = replace_turkish_months(dogum_tarihi)\n",
    "    \n",
    "\n",
    "    # Try parsing with dayfirst=True\n",
    "    parsed_date = pd.to_datetime(dogum_tarihi, errors='coerce', dayfirst=True)\n",
    "    \n",
    "    # If parsing fails, try dayfirst=False\n",
    "    # If still nan move on\n",
    "    if pd.isna(parsed_date):\n",
    "        parsed_date = pd.to_datetime(dogum_tarihi, errors='coerce', dayfirst=False)\n",
    "    \n",
    "        # If still NaT, set to np.nan\n",
    "    if pd.isna(parsed_date):\n",
    "        parsed_date = np.nan\n",
    "    \n",
    "\n",
    "    # Update the DataFrame\n",
    "    df.at[index, 'Dogum Tarihi'] = parsed_date\n",
    "\n"
   ]
  },
  {
   "cell_type": "markdown",
   "metadata": {},
   "source": [
    "2.2. Yas Column"
   ]
  },
  {
   "cell_type": "code",
   "execution_count": 6,
   "metadata": {},
   "outputs": [],
   "source": [
    "# Creating Age column\n",
    "df['Dogum Tarihi'] = pd.to_datetime(df['Dogum Tarihi'], errors='coerce')\n",
    "df['Dogum Yili'] = df['Dogum Tarihi'].dt.year\n",
    "df['Yas'] = df['Basvuru Yili'] - df['Dogum Yili']\n",
    "\n",
    "# Replace negative ages with NaN\n",
    "df.loc[df['Yas'] <= 0, 'Yas'] = np.nan\n",
    "df.loc[df['Yas'] >= 100, 'Yas'] = np.nan\n"
   ]
  },
  {
   "cell_type": "markdown",
   "metadata": {},
   "source": [
    "2.3. Dogum Yeri"
   ]
  },
  {
   "cell_type": "code",
   "execution_count": 7,
   "metadata": {},
   "outputs": [],
   "source": [
    "# Create an instance of the Cities class\n",
    "cities = Cities()\n",
    "\n",
    "# Iterate over each row in the 'Dogum Yeri' column\n",
    "for index, row in df.iterrows():\n",
    "    dogum_yeri = str(row['Dogum Yeri'])\n",
    "    city_name = cities.search_city_name_in_text(dogum_yeri)\n",
    "    if city_name != None:\n",
    "        df.at[index, 'Dogum Yeri'] = city_name\n",
    "    else:\n",
    "        city_name = cities.search_counties_in_text(dogum_yeri)\n",
    "        if city_name != None:\n",
    "            df.at[index, 'Dogum Yeri'] = city_name\n",
    "        else:\n",
    "            df.at[index, 'Dogum Yeri'] = np.nan\n"
   ]
  },
  {
   "cell_type": "markdown",
   "metadata": {},
   "source": [
    "2.4. Ikametgah Sehri"
   ]
  },
  {
   "cell_type": "code",
   "execution_count": 8,
   "metadata": {},
   "outputs": [],
   "source": [
    "# Create an instance of the Cities class\n",
    "cities = Cities()\n",
    "\n",
    "# Iterate over each row in the 'Ikametgah Sehri' column\n",
    "for index, row in df.iterrows():\n",
    "    dogum_yeri = str(row['Ikametgah Sehri'])\n",
    "    city_name = cities.search_city_name_in_text(dogum_yeri)\n",
    "    if city_name != None:\n",
    "        df.at[index, 'Ikametgah Sehri'] = city_name\n",
    "    else:\n",
    "        city_name = cities.search_counties_in_text(dogum_yeri)\n",
    "        if city_name != None:\n",
    "            df.at[index, 'Ikametgah Sehri'] = city_name\n",
    "        else:\n",
    "            df.at[index, 'Ikametgah Sehri'] = np.nan"
   ]
  },
  {
   "cell_type": "markdown",
   "metadata": {},
   "source": [
    "2.5. Universite Kacinci Sinif"
   ]
  },
  {
   "cell_type": "code",
   "execution_count": 9,
   "metadata": {},
   "outputs": [],
   "source": [
    "def convert_to_numeric_from_sinif(value):\n",
    "        if isinstance(value, str):\n",
    "            if value == 'hazirlik':\n",
    "                return 0\n",
    "            if value == 'mezun':\n",
    "                return 5\n",
    "            if value == 'yüksek lisans':\n",
    "                return 6\n",
    "            if value == 'tez':\n",
    "                return 7 \n",
    "            \n",
    "        elif isinstance(value, int):\n",
    "            return value\n",
    "        return 0\n",
    "\n",
    "for index, row in df.iterrows():\n",
    "    avg_grade = row['Universite Kacinci Sinif']\n",
    "    avg_grade = convert_to_numeric_from_sinif(avg_grade)\n",
    "    df.at[index, 'Universite Kacinci Sinif'] = avg_grade"
   ]
  },
  {
   "cell_type": "markdown",
   "metadata": {},
   "source": [
    "2.6. Universite Not Ortalamasi"
   ]
  },
  {
   "cell_type": "code",
   "execution_count": 10,
   "metadata": {},
   "outputs": [
    {
     "data": {
      "text/plain": [
       "array(['2.50 - 2.99', 'hazirligim', '3.00 - 3.49', '1.80 - 2.49',\n",
       "       '3.50 - 4.00', '0 - 1.79'], dtype=object)"
      ]
     },
     "execution_count": 10,
     "metadata": {},
     "output_type": "execute_result"
    }
   ],
   "source": [
    "df['Universite Not Ortalamasi'].unique()"
   ]
  },
  {
   "cell_type": "code",
   "execution_count": 11,
   "metadata": {},
   "outputs": [],
   "source": [
    "def convert_to_numeric(value):\n",
    "        if isinstance(value, object):\n",
    "            # Handle ranges like '3.50-3' or '3.00 - 2.50'\n",
    "            match = re.findall(r\"\\d+\\.\\d+|\\d+\", value)\n",
    "            if len(match) == 2:\n",
    "                return (float(match[0]) + float(match[1])) / 2\n",
    "            elif len(match) == 1:\n",
    "                return float(match[0])\n",
    "            elif \"altı\" in value in value:  # handle '2.50 ve altı' and 'hazırlığım'\n",
    "                return float(2.50)  # Use a code to represent such cases\n",
    "            elif \"ortalama bulunmuyor\" in value or \"not ortalamasi yok\" in value or 'hazirligim' in value:\n",
    "                return np.nan  # Handle missing or unavailable data\n",
    "        return np.nan\n",
    "\n",
    "for index, row in df.iterrows():\n",
    "    avg_grade = row['Universite Not Ortalamasi']\n",
    "    avg_grade = convert_to_numeric(avg_grade)\n",
    "    df.at[index, 'Universite Not Ortalamasi'] = avg_grade"
   ]
  },
  {
   "cell_type": "code",
   "execution_count": 12,
   "metadata": {},
   "outputs": [
    {
     "data": {
      "text/plain": [
       "array([2.745, nan, 3.245, 2.145, 3.75, 0.895], dtype=object)"
      ]
     },
     "execution_count": 12,
     "metadata": {},
     "output_type": "execute_result"
    }
   ],
   "source": [
    "df['Universite Not Ortalamasi'].unique()"
   ]
  },
  {
   "cell_type": "markdown",
   "metadata": {},
   "source": [
    "2.7. Lise Adi and Lise Adi Diger"
   ]
  },
  {
   "cell_type": "code",
   "execution_count": 13,
   "metadata": {},
   "outputs": [],
   "source": [
    "for index, row in df.iterrows():\n",
    "    if type(row['Lise Adi']) != str:\n",
    "        df.at[index, 'Lise Adi'] = row['Lise Adi Diger']\n",
    "\n"
   ]
  },
  {
   "cell_type": "code",
   "execution_count": 14,
   "metadata": {},
   "outputs": [
    {
     "data": {
      "text/plain": [
       "array(['amasya suluova sehit muharrem saygun anadolu lisesi',\n",
       "       'acik ogretim lisesi', 'ozel asama anadolu lisesi', ...,\n",
       "       'mehmet rustu uzel mesleki teknik anadolu lisesi',\n",
       "       'prof. dr. omer dincer kiz anadolu imam hatip lisesi',\n",
       "       'nokta tek koleji'], dtype=object)"
      ]
     },
     "execution_count": 14,
     "metadata": {},
     "output_type": "execute_result"
    }
   ],
   "source": [
    "df['Lise Adi'].unique()"
   ]
  },
  {
   "cell_type": "markdown",
   "metadata": {},
   "source": [
    "2.8. Lise Sehir"
   ]
  },
  {
   "cell_type": "code",
   "execution_count": 15,
   "metadata": {},
   "outputs": [],
   "source": [
    "# Create an instance of the Cities class\n",
    "cities = Cities()\n",
    "\n",
    "# Iterate over each row in the 'Ikametgah Sehri' column\n",
    "for index, row in df.iterrows():\n",
    "    dogum_yeri = str(row['Lise Sehir'])\n",
    "    city_name = cities.search_city_name_in_text(dogum_yeri)\n",
    "    if city_name != None:\n",
    "        df.at[index, 'Lise Sehir'] = city_name\n",
    "    else:\n",
    "        city_name = cities.search_counties_in_text(dogum_yeri)\n",
    "        if city_name != None:\n",
    "            df.at[index, 'Lise Sehir'] = city_name\n",
    "        else:\n",
    "            df.at[index, 'Lise Sehir'] = np.nan"
   ]
  },
  {
   "cell_type": "markdown",
   "metadata": {},
   "source": [
    "2.9. Lise Bolum and Lise Bolum Diger"
   ]
  },
  {
   "cell_type": "code",
   "execution_count": 16,
   "metadata": {},
   "outputs": [],
   "source": [
    "for index, row in df.iterrows():\n",
    "    if type(row['Lise Bolumu']) != str:\n",
    "        df.at[index, 'Lise Bolumu'] = row['Lise Bolum Diger']\n",
    "\n"
   ]
  },
  {
   "cell_type": "markdown",
   "metadata": {},
   "source": [
    "2.10. Lise Ortalama Giris Puanı"
   ]
  },
  {
   "cell_type": "code",
   "execution_count": 17,
   "metadata": {},
   "outputs": [],
   "source": [
    "def find_closest_match_with_a_threshold(text, dataframe_column, threshold=60):\n",
    "    result = process.extractOne(text, dataframe_column)\n",
    "    if result is None:\n",
    "        return None\n",
    "    closest_match, score = result[:2]\n",
    "    return closest_match if score > threshold else None\n",
    "\n",
    "# Function to find the closest match using fuzzy search\n",
    "def find_the_lise_avg_point(row):\n",
    "    # Get data from the current row\n",
    "    city_name = row['Lise Sehir']\n",
    "    school_name = row['Lise Adi']\n",
    "    bolumu = row['Lise Bolumu']\n",
    "\n",
    "    avg_point = 0\n",
    "    \n",
    "    if not isinstance(city_name, str) or not isinstance(school_name, str):\n",
    "        return np.nan\n",
    "    \n",
    "    # Filter lise_frame based on the city name\n",
    "    filtered_lise_frame = lise_frame[lise_frame['İL'] == city_name]\n",
    "    \n",
    "    most_similar_school_name = find_closest_match_with_a_threshold(school_name, filtered_lise_frame['OKUL ADI'])\n",
    "    if most_similar_school_name == None:\n",
    "        return np.nan\n",
    "    \n",
    "    if isinstance(bolumu, str):\n",
    "        filtered_lise_frame = filtered_lise_frame[filtered_lise_frame['OKUL ADI'] == most_similar_school_name]\n",
    "        most_similar_bolumu = find_closest_match_with_a_threshold(bolumu, filtered_lise_frame['ALAN'])\n",
    "        avg_point = filtered_lise_frame[filtered_lise_frame['ALAN'] == most_similar_bolumu]['ORTALAMA GIRIS PUANI'].mean()\n",
    "    else:\n",
    "        avg_point = filtered_lise_frame[filtered_lise_frame['OKUL ADI'] == most_similar_school_name]['ORTALAMA GIRIS PUANI'].mean()\n",
    "\n",
    "    return avg_point if avg_point != None else filtered_lise_frame['ORTALAMA GIRIS PUANI'].mean()"
   ]
  },
  {
   "cell_type": "code",
   "execution_count": 18,
   "metadata": {},
   "outputs": [
    {
     "name": "stderr",
     "output_type": "stream",
     "text": [
      "Applied processor reduces input query to empty string, all comparisons will have score 0. [Query: '..']\n",
      "Applied processor reduces input query to empty string, all comparisons will have score 0. [Query: '-']\n",
      "Applied processor reduces input query to empty string, all comparisons will have score 0. [Query: '...']\n"
     ]
    }
   ],
   "source": [
    "for index, row in df.iterrows():\n",
    "    df.at[index, 'lise giris ort'] = find_the_lise_avg_point(row)"
   ]
  },
  {
   "cell_type": "markdown",
   "metadata": {},
   "source": [
    "2.11. Lise Turu"
   ]
  },
  {
   "cell_type": "code",
   "execution_count": 19,
   "metadata": {},
   "outputs": [],
   "source": [
    "def normalize_lise_types(value):\n",
    "    if isinstance(value, str):\n",
    "        if 'anadolu' in value:\n",
    "            return 'anadolu'\n",
    "        elif 'meslek' in value:\n",
    "            return 'meslek'\n",
    "        elif 'fen' in value:\n",
    "            return 'fen'\n",
    "        elif 'özel' in value:\n",
    "            return 'özel'\n",
    "        elif 'düz' in value:\n",
    "            return 'düz'\n",
    "        elif 'imam hatip' in value:\n",
    "            return 'imam hatip'\n",
    "        elif 'sosyal' in value:\n",
    "            return 'sosyal'\n",
    "        elif 'teknik' in value:\n",
    "            return 'teknik'\n",
    "        elif 'sanat' in value:\n",
    "            return 'sanat'\n",
    "        elif 'diğer' in value:\n",
    "            return 'diğer'\n",
    "        elif 'devlet' in value:\n",
    "            return 'devlet'\n",
    "        else:\n",
    "            return np.nan\n",
    "\n",
    "for index, row in df.iterrows():\n",
    "    avg_grade = row['Lise Turu']\n",
    "    avg_grade = normalize_lise_types(avg_grade)\n",
    "    df.at[index, 'Lise Turu'] = avg_grade"
   ]
  },
  {
   "cell_type": "markdown",
   "metadata": {},
   "source": [
    "2.11. Lise Mezuniyet Notu"
   ]
  },
  {
   "cell_type": "code",
   "execution_count": 20,
   "metadata": {},
   "outputs": [],
   "source": [
    "def convert_to_numeric_base100(value):\n",
    "    if isinstance(value, str):\n",
    "        # Handle ranges like '3.50-3' or '3.00 - 2.50'\n",
    "        match = re.findall(r\"\\d+\\.\\d+|\\d+\", value)\n",
    "        \n",
    "        if len(match) == 2:\n",
    "            low = float(match[1])\n",
    "            high = float(match[0])\n",
    "            avg = (high + low) / 2\n",
    "\n",
    "            # Check if it's likely based on a 4.0 scale, otherwise assume it's a 100 scale\n",
    "            if high <= 4.0 and low <= 4.0:\n",
    "                return (avg / 4.0) * 100\n",
    "            elif high > 4.0 and low > 4.0:\n",
    "                return avg  # Keep it in 100-point scale\n",
    "            else:\n",
    "                return avg  # This can handle mixed cases (in case it's misrepresented)\n",
    "\n",
    "        elif len(match) == 1:\n",
    "            # Assume it's a single value and needs to be standardized to 100\n",
    "            single_value = float(match[0])\n",
    "            if single_value <= 4.0:\n",
    "                return (single_value / 4.0) * 100\n",
    "            else:\n",
    "                return single_value\n",
    "\n",
    "        elif \"altı\" in value:  # handle '2.50 ve altı'\n",
    "            return (2.50 / 4.0) * 100  # Convert it to 100 scale\n",
    "        \n",
    "        elif \"nan\" in str(value) or \"not ortalaması yok\" in value:\n",
    "            return np.nan  # Handle missing or unavailable data\n",
    "\n",
    "    return np.nan\n",
    "\n",
    "\n",
    "for index, row in df.iterrows():\n",
    "    avg_grade = row['Lise Mezuniyet Notu']\n",
    "    avg_grade = convert_to_numeric_base100(avg_grade)\n",
    "    df.at[index, 'Lise Mezuniyet Notu'] = avg_grade"
   ]
  },
  {
   "cell_type": "markdown",
   "metadata": {
    "vscode": {
     "languageId": "raw"
    }
   },
   "source": [
    "2.12. Burs ile Alakalı Sütunlar"
   ]
  },
  {
   "cell_type": "raw",
   "metadata": {
    "vscode": {
     "languageId": "raw"
    }
   },
   "source": [
    "I. Baska Bir Kurumdan Burs Aliyor mu?\n",
    "II. Burs Aldigi Baska Kurum (categorical value)\n",
    "III. Baska Kurumdan Aldigi Burs Miktari"
   ]
  },
  {
   "cell_type": "markdown",
   "metadata": {},
   "source": [
    "2.13. Anne Egitim Durumu and Baba Egitim Durumu"
   ]
  },
  {
   "cell_type": "code",
   "execution_count": 21,
   "metadata": {},
   "outputs": [],
   "source": [
    "ilkokul = replace_turkish_letters('ilkokul')\n",
    "def normalize_egitim_durumu(value):\n",
    "    if isinstance(value, str):\n",
    "        if 'yok' in value or 'nan' in str(value):\n",
    "            return 0\n",
    "        elif str(ilkokul) in replace_turkish_letters(value):\n",
    "            return 1\n",
    "        elif 'ortaokul' in value:\n",
    "            return 2\n",
    "        elif 'lise' in value:\n",
    "            return 3\n",
    "        elif 'üniversite' in value:\n",
    "            return 4\n",
    "        elif 'doktora' in value or 'doktara' in value:\n",
    "            return 6\n",
    "        elif 'yüksek' in value:\n",
    "            return 5\n",
    "        \n",
    "            \n",
    "        \n",
    "\n",
    "for index, row in df.iterrows():\n",
    "    egitim_durumu = row['Anne Egitim Durumu']\n",
    "    egitim_durumu = normalize_egitim_durumu(egitim_durumu)\n",
    "    df.at[index, 'Anne Egitim Durumu'] = egitim_durumu\n",
    "\n",
    "for index, row in df.iterrows():\n",
    "    egitim_durumu = row['Baba Egitim Durumu']\n",
    "    egitim_durumu = normalize_egitim_durumu(egitim_durumu)\n",
    "    df.at[index, 'Baba Egitim Durumu'] = egitim_durumu"
   ]
  },
  {
   "cell_type": "markdown",
   "metadata": {},
   "source": [
    "2.14. Kardes Sayisi"
   ]
  },
  {
   "cell_type": "code",
   "execution_count": 22,
   "metadata": {},
   "outputs": [],
   "source": [
    "for index, row in df.iterrows():\n",
    "    kardes_sayisi = row['Kardes Sayisi']\n",
    "    \n",
    "    if str(kardes_sayisi) == 'nan':\n",
    "        kardes_sayisi = np.nan\n",
    "    else:\n",
    "        try:\n",
    "            kardes_sayisi = int(kardes_sayisi)\n",
    "        except ValueError:\n",
    "            df.at[index, 'Kardes Sayisi'] = 1\n",
    "        else:\n",
    "            df.at[index, 'Kardes Sayisi'] = kardes_sayisi"
   ]
  },
  {
   "cell_type": "markdown",
   "metadata": {},
   "source": [
    "2.15. Sosyal Sorumluluk ve Sporla Alakalı Sütunlar\n",
    "\n",
    "Karmaşık derecede çok datası olanlar silindi diğerleri eğitimde fark yaratacaktır."
   ]
  },
  {
   "cell_type": "markdown",
   "metadata": {
    "vscode": {
     "languageId": "raw"
    }
   },
   "source": [
    "2.16. Deneyimler ve yetenekler"
   ]
  },
  {
   "cell_type": "code",
   "execution_count": 23,
   "metadata": {},
   "outputs": [],
   "source": [
    "for index, row in df.iterrows():\n",
    "    seviye = row[\"Ingilizce Seviyeniz?\"]\n",
    "    if isinstance(seviye, str):\n",
    "        seviye = replace_turkish_letters(seviye)\n",
    "    numerical = 0\n",
    "    if  seviye == \"ileri\":\n",
    "        numerical = 3\n",
    "    elif row[\"Ingilizce Seviyeniz?\"] == \"orta\":\n",
    "        numerical = 2\n",
    "    elif row[\"Ingilizce Seviyeniz?\"] == \"başlangıç\":\n",
    "        numerical = 1\n",
    "    else:\n",
    "        numerical = 0\n",
    "\n",
    "    df.at[index, \"Ingilizce Seviyeniz?\"] = numerical\n"
   ]
  },
  {
   "cell_type": "markdown",
   "metadata": {},
   "source": [
    "3. Saving new table"
   ]
  },
  {
   "cell_type": "code",
   "execution_count": 24,
   "metadata": {},
   "outputs": [],
   "source": [
    "df.to_csv('processed_train_data.csv', index=False)"
   ]
  },
  {
   "cell_type": "raw",
   "metadata": {
    "vscode": {
     "languageId": "raw"
    }
   },
   "source": [
    "# To be dropped\n",
    "df.drop(columns=['Dogum Yili', 'Dogum Tarihi',\"Hangi STK'nin Uyesisiniz?\", \"Uye Oldugunuz Kulubun Ismi\",\n",
    "    \"Girisimcilikle Ilgili Deneyiminizi Aciklayabilir misiniz?\",\"Spor Dalindaki Rolunuz Nedir?\",'Lise Adi Diger',\n",
    "    'Lise Bolum Diger','Lise Adi', 'Lise Bolumu', 'Lise Sehir','Baska Kurumdan Aldigi Burs Miktari'], inplace=True)"
   ]
  }
 ],
 "metadata": {
  "kernelspec": {
   "display_name": "datathon",
   "language": "python",
   "name": "python3"
  },
  "language_info": {
   "codemirror_mode": {
    "name": "ipython",
    "version": 3
   },
   "file_extension": ".py",
   "mimetype": "text/x-python",
   "name": "python",
   "nbconvert_exporter": "python",
   "pygments_lexer": "ipython3",
   "version": "3.11.9"
  }
 },
 "nbformat": 4,
 "nbformat_minor": 2
}
