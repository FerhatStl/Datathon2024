{
 "cells": [
  {
   "cell_type": "code",
   "execution_count": 6,
   "metadata": {},
   "outputs": [
    {
     "name": "stdout",
     "output_type": "stream",
     "text": [
      "1. Basvuru Yili\n",
      "2. Cinsiyet\n",
      "3. Dogum Yeri\n",
      "4. Ikametgah Sehri\n",
      "5. Universite Adi\n",
      "6. Universite Turu\n",
      "7. Burslu ise Burs Yuzdesi\n",
      "8. Burs Aliyor mu?\n",
      "9. Bölüm\n",
      "10. Universite Kacinci Sinif\n",
      "11. Universite Not Ortalamasi\n",
      "12. Daha Once Baska Bir Universiteden Mezun Olmus\n",
      "13. Lise Turu\n",
      "14. Lise Mezuniyet Notu\n",
      "15. Baska Bir Kurumdan Burs Aliyor mu?\n",
      "16. Burs Aldigi Baska Kurum\n",
      "17. Anne Egitim Durumu\n",
      "18. Anne Calisma Durumu\n",
      "19. Anne Sektor\n",
      "20. Baba Egitim Durumu\n",
      "21. Baba Calisma Durumu\n",
      "22. Baba Sektor\n",
      "23. Kardes Sayisi\n",
      "24. Girisimcilik Kulupleri Tarzi Bir Kulube Uye misiniz?\n",
      "25. Profesyonel Bir Spor Daliyla Mesgul musunuz?\n",
      "26. Aktif olarak bir STK üyesi misiniz?\n",
      "27. Stk Projesine Katildiniz Mi?\n",
      "28. Girisimcilikle Ilgili Deneyiminiz Var Mi?\n",
      "29. Ingilizce Biliyor musunuz?\n",
      "30. Ingilizce Seviyeniz?\n",
      "31. Daha Önceden Mezun Olunduysa, Mezun Olunan Üniversite\n",
      "32. id\n",
      "33. Yas\n",
      "34. lise giris ort\n"
     ]
    }
   ],
   "source": [
    "from catboost import CatBoostRegressor\n",
    "import pandas as pd\n",
    "\n",
    "# Load the model from file\n",
    "model = CatBoostRegressor()\n",
    "model.load_model(\"catboost_model_3_depth6.bin\")\n",
    "\n",
    "# Load the test data\n",
    "df = pd.read_csv('test_imputed.csv')\n",
    "\n",
    "column_names = df.columns.tolist()\n",
    "for i, column in enumerate(column_names):\n",
    "    print(f\"{i+1}. {column}\")\n"
   ]
  },
  {
   "cell_type": "code",
   "execution_count": 9,
   "metadata": {},
   "outputs": [
    {
     "name": "stdout",
     "output_type": "stream",
     "text": [
      "Predictions saved to predictions__depth6_new.csv\n"
     ]
    },
    {
     "name": "stderr",
     "output_type": "stream",
     "text": [
      "C:\\Users\\ferha\\AppData\\Local\\Temp\\ipykernel_2160\\391906447.py:23: SettingWithCopyWarning: \n",
      "A value is trying to be set on a copy of a slice from a DataFrame.\n",
      "Try using .loc[row_indexer,col_indexer] = value instead\n",
      "\n",
      "See the caveats in the documentation: https://pandas.pydata.org/pandas-docs/stable/user_guide/indexing.html#returning-a-view-versus-a-copy\n",
      "  results['id'] = results['id'].astype(int)\n"
     ]
    }
   ],
   "source": [
    "categorical_features = ['Basvuru Yili', 'Cinsiyet', 'Dogum Yeri', 'Ikametgah Sehri',\n",
    "                        'Universite Adi', 'Universite Turu', 'Burs Aliyor mu?','Bölüm','Daha Once Baska Bir Universiteden Mezun Olmus',\n",
    "                        'Lise Turu','Baska Bir Kurumdan Burs Aliyor mu?','Anne Calisma Durumu','Anne Sektor','Baba Calisma Durumu',\n",
    "                        'Baba Sektor','Girisimcilik Kulupleri Tarzi Bir Kulube Uye misiniz?','Profesyonel Bir Spor Daliyla Mesgul musunuz?','Aktif olarak bir STK üyesi misiniz?',\n",
    "                        'Stk Projesine Katildiniz Mi?','Girisimcilikle Ilgili Deneyiminiz Var Mi?',\n",
    "                        'Ingilizce Biliyor musunuz?', 'Burs Aldigi Baska Kurum', 'Daha Önceden Mezun Olunduysa, Mezun Olunan Üniversite']\n",
    "\n",
    "\n",
    "numerical_features = [column for column in column_names if column not in categorical_features]\n",
    "\n",
    "# Fill missing values in categorical features\n",
    "df[categorical_features] = df[categorical_features].fillna(\"missing\").astype(str)\n",
    "\n",
    "# Fill missing values in numerical features\n",
    "df[numerical_features] = df[numerical_features].fillna(0)\n",
    "\n",
    "X_test = df.drop(columns=['id'])\n",
    "# Predict the target variable using the model\n",
    "df['Degerlendirme Puani'] = model.predict(X_test)\n",
    "\n",
    "# Create a new DataFrame with only 'id' and 'Degerlendirme Puani' columns\n",
    "results = df[['id', 'Degerlendirme Puani']]\n",
    "results['id'] = results['id'].astype(int)\n",
    "\n",
    "# Save the results to a new CSV file\n",
    "results.to_csv(\"predictions__depth6_new.csv\", index=False)\n",
    "\n",
    "print(\"Predictions saved to predictions__depth6_new.csv\")"
   ]
  },
  {
   "cell_type": "code",
   "execution_count": 10,
   "metadata": {},
   "outputs": [
    {
     "data": {
      "text/html": [
       "<div>\n",
       "<style scoped>\n",
       "    .dataframe tbody tr th:only-of-type {\n",
       "        vertical-align: middle;\n",
       "    }\n",
       "\n",
       "    .dataframe tbody tr th {\n",
       "        vertical-align: top;\n",
       "    }\n",
       "\n",
       "    .dataframe thead th {\n",
       "        text-align: right;\n",
       "    }\n",
       "</style>\n",
       "<table border=\"1\" class=\"dataframe\">\n",
       "  <thead>\n",
       "    <tr style=\"text-align: right;\">\n",
       "      <th></th>\n",
       "      <th>id</th>\n",
       "      <th>Degerlendirme Puani</th>\n",
       "    </tr>\n",
       "  </thead>\n",
       "  <tbody>\n",
       "    <tr>\n",
       "      <th>0</th>\n",
       "      <td>0</td>\n",
       "      <td>30.926312</td>\n",
       "    </tr>\n",
       "    <tr>\n",
       "      <th>1</th>\n",
       "      <td>1</td>\n",
       "      <td>24.121621</td>\n",
       "    </tr>\n",
       "    <tr>\n",
       "      <th>2</th>\n",
       "      <td>2</td>\n",
       "      <td>20.175015</td>\n",
       "    </tr>\n",
       "    <tr>\n",
       "      <th>3</th>\n",
       "      <td>3</td>\n",
       "      <td>30.598846</td>\n",
       "    </tr>\n",
       "    <tr>\n",
       "      <th>4</th>\n",
       "      <td>4</td>\n",
       "      <td>38.467199</td>\n",
       "    </tr>\n",
       "    <tr>\n",
       "      <th>...</th>\n",
       "      <td>...</td>\n",
       "      <td>...</td>\n",
       "    </tr>\n",
       "    <tr>\n",
       "      <th>11044</th>\n",
       "      <td>11044</td>\n",
       "      <td>40.079368</td>\n",
       "    </tr>\n",
       "    <tr>\n",
       "      <th>11045</th>\n",
       "      <td>11045</td>\n",
       "      <td>40.258323</td>\n",
       "    </tr>\n",
       "    <tr>\n",
       "      <th>11046</th>\n",
       "      <td>11046</td>\n",
       "      <td>40.708447</td>\n",
       "    </tr>\n",
       "    <tr>\n",
       "      <th>11047</th>\n",
       "      <td>11047</td>\n",
       "      <td>40.535000</td>\n",
       "    </tr>\n",
       "    <tr>\n",
       "      <th>11048</th>\n",
       "      <td>11048</td>\n",
       "      <td>39.038484</td>\n",
       "    </tr>\n",
       "  </tbody>\n",
       "</table>\n",
       "<p>11049 rows × 2 columns</p>\n",
       "</div>"
      ],
      "text/plain": [
       "          id  Degerlendirme Puani\n",
       "0          0            30.926312\n",
       "1          1            24.121621\n",
       "2          2            20.175015\n",
       "3          3            30.598846\n",
       "4          4            38.467199\n",
       "...      ...                  ...\n",
       "11044  11044            40.079368\n",
       "11045  11045            40.258323\n",
       "11046  11046            40.708447\n",
       "11047  11047            40.535000\n",
       "11048  11048            39.038484\n",
       "\n",
       "[11049 rows x 2 columns]"
      ]
     },
     "execution_count": 10,
     "metadata": {},
     "output_type": "execute_result"
    }
   ],
   "source": [
    "results"
   ]
  },
  {
   "cell_type": "code",
   "execution_count": null,
   "metadata": {},
   "outputs": [],
   "source": []
  }
 ],
 "metadata": {
  "kernelspec": {
   "display_name": "datathon",
   "language": "python",
   "name": "python3"
  },
  "language_info": {
   "codemirror_mode": {
    "name": "ipython",
    "version": 3
   },
   "file_extension": ".py",
   "mimetype": "text/x-python",
   "name": "python",
   "nbconvert_exporter": "python",
   "pygments_lexer": "ipython3",
   "version": "3.11.9"
  }
 },
 "nbformat": 4,
 "nbformat_minor": 2
}
