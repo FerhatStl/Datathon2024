{
 "cells": [
  {
   "cell_type": "code",
   "execution_count": 1,
   "metadata": {},
   "outputs": [
    {
     "name": "stderr",
     "output_type": "stream",
     "text": [
      "C:\\Users\\ferha\\AppData\\Local\\Temp\\ipykernel_12076\\428823519.py:6: DtypeWarning: Columns (12,27,31) have mixed types. Specify dtype option on import or set low_memory=False.\n",
      "  df = pd.read_csv('processed_training_data2.csv')\n"
     ]
    }
   ],
   "source": [
    "from catboost import CatBoostRegressor\n",
    "from sklearn.model_selection import train_test_split\n",
    "from sklearn.metrics import mean_squared_error\n",
    "import pandas as pd\n",
    "import numpy as np\n",
    "df = pd.read_csv('processed_training_data2.csv')\n"
   ]
  },
  {
   "cell_type": "code",
   "execution_count": 2,
   "metadata": {},
   "outputs": [
    {
     "name": "stdout",
     "output_type": "stream",
     "text": [
      "1. Basvuru Yili\n",
      "2. Degerlendirme Puani\n",
      "3. Cinsiyet\n",
      "4. Dogum Yeri\n",
      "5. Ikametgah Sehri\n",
      "6. Universite Adi\n",
      "7. Universite Turu\n",
      "8. Burslu ise Burs Yuzdesi\n",
      "9. Burs Aliyor mu?\n",
      "10. Bölüm\n",
      "11. Universite Kacinci Sinif\n",
      "12. Universite Not Ortalamasi\n",
      "13. Daha Once Baska Bir Universiteden Mezun Olmus\n",
      "14. Lise Turu\n",
      "15. Lise Mezuniyet Notu\n",
      "16. Baska Bir Kurumdan Burs Aliyor mu?\n",
      "17. Burs Aldigi Baska Kurum\n",
      "18. Anne Egitim Durumu\n",
      "19. Anne Calisma Durumu\n",
      "20. Anne Sektor\n",
      "21. Baba Egitim Durumu\n",
      "22. Baba Calisma Durumu\n",
      "23. Baba Sektor\n",
      "24. Kardes Sayisi\n",
      "25. Girisimcilik Kulupleri Tarzi Bir Kulube Uye misiniz?\n",
      "26. Profesyonel Bir Spor Daliyla Mesgul musunuz?\n",
      "27. Aktif olarak bir STK üyesi misiniz?\n",
      "28. Stk Projesine Katildiniz Mi?\n",
      "29. Girisimcilikle Ilgili Deneyiminiz Var Mi?\n",
      "30. Ingilizce Biliyor musunuz?\n",
      "31. Ingilizce Seviyeniz?\n",
      "32. Daha Önceden Mezun Olunduysa, Mezun Olunan Üniversite\n",
      "33. id\n",
      "34. Yas\n",
      "35. lise giris ort\n"
     ]
    }
   ],
   "source": [
    "\n",
    "# Get the list of column names\n",
    "column_names = df.columns.tolist()\n",
    "\n",
    "for i, column in enumerate(column_names):\n",
    "    print(f\"{i+1}. {column}\")\n",
    "\n",
    "column_names.remove('id')\n",
    "column_names.remove('Degerlendirme Puani')\n"
   ]
  },
  {
   "cell_type": "code",
   "execution_count": 3,
   "metadata": {},
   "outputs": [],
   "source": [
    "df.drop(columns=['Daha Önceden Mezun Olunduysa, Mezun Olunan Üniversite'], inplace=True)"
   ]
  },
  {
   "cell_type": "code",
   "execution_count": 5,
   "metadata": {},
   "outputs": [
    {
     "name": "stdout",
     "output_type": "stream",
     "text": [
      "['Degerlendirme Puani', 'Burslu ise Burs Yuzdesi', 'Universite Kacinci Sinif', 'Universite Not Ortalamasi', 'Lise Mezuniyet Notu', 'Anne Egitim Durumu', 'Baba Egitim Durumu', 'Kardes Sayisi', 'Ingilizce Seviyeniz?', 'id', 'Yas', 'lise giris ort']\n"
     ]
    }
   ],
   "source": [
    "categorical_features = ['Basvuru Yili', 'Cinsiyet', 'Dogum Yeri', 'Ikametgah Sehri',\n",
    "                        'Universite Adi', 'Universite Turu', 'Burs Aliyor mu?','Bölüm','Daha Once Baska Bir Universiteden Mezun Olmus',\n",
    "                        'Lise Turu','Baska Bir Kurumdan Burs Aliyor mu?','Anne Calisma Durumu','Anne Sektor','Baba Calisma Durumu',\n",
    "                        'Baba Sektor','Girisimcilik Kulupleri Tarzi Bir Kulube Uye misiniz?','Profesyonel Bir Spor Daliyla Mesgul musunuz?','Aktif olarak bir STK üyesi misiniz?',\n",
    "                        'Stk Projesine Katildiniz Mi?','Girisimcilikle Ilgili Deneyiminiz Var Mi?',\n",
    "                        'Ingilizce Biliyor musunuz?', 'Burs Aldigi Baska Kurum']\n",
    "\n",
    "numerical_features = [column for column in df.columns if column not in categorical_features]\n",
    "print(numerical_features)\n",
    "\n",
    "# Fill missing values in categorical features\n",
    "df[categorical_features] = df[categorical_features].fillna(\"0\").astype(str)\n",
    "\n",
    "# Fill missing values in numerical features\n",
    "df[numerical_features] = df[numerical_features].fillna(0)\n",
    "\n",
    "\n",
    "X = df.drop(['Degerlendirme Puani', 'id'], axis=1)  # Drop target and id columns\n",
    "y = df['Degerlendirme Puani']\n",
    "\n",
    "# Split into training and validation sets\n",
    "X_train, X_val, y_train, y_val = train_test_split(X, y, test_size=0.2, random_state=42)\n",
    "\n",
    "y_train = y_train.fillna(y_train.mean())\n",
    "y_val = y_val.fillna(y_val.mean())\n"
   ]
  },
  {
   "cell_type": "code",
   "execution_count": 6,
   "metadata": {},
   "outputs": [
    {
     "data": {
      "application/vnd.jupyter.widget-view+json": {
       "model_id": "4b8a59262d5b4a279ccf4cb69d0f67d5",
       "version_major": 2,
       "version_minor": 0
      },
      "text/plain": [
       "MetricVisualizer(layout=Layout(align_self='stretch', height='500px'))"
      ]
     },
     "metadata": {},
     "output_type": "display_data"
    },
    {
     "name": "stdout",
     "output_type": "stream",
     "text": [
      "0:\tlearn: 16.6795978\ttest: 16.7242419\tbest: 16.7242419 (0)\ttotal: 95.7ms\tremaining: 4m 46s\n",
      "100:\tlearn: 5.6869003\ttest: 5.7495598\tbest: 5.7495598 (100)\ttotal: 5.27s\tremaining: 2m 31s\n",
      "200:\tlearn: 5.5378958\ttest: 5.7027816\tbest: 5.7027816 (200)\ttotal: 10.3s\tremaining: 2m 23s\n",
      "300:\tlearn: 5.4395672\ttest: 5.6855277\tbest: 5.6853439 (297)\ttotal: 15.2s\tremaining: 2m 16s\n",
      "400:\tlearn: 5.3607333\ttest: 5.6765532\tbest: 5.6757710 (388)\ttotal: 20.2s\tremaining: 2m 11s\n",
      "500:\tlearn: 5.2814877\ttest: 5.6686129\tbest: 5.6681198 (493)\ttotal: 25.2s\tremaining: 2m 5s\n",
      "600:\tlearn: 5.2017025\ttest: 5.6637599\tbest: 5.6637271 (599)\ttotal: 30.2s\tremaining: 2m\n",
      "700:\tlearn: 5.1259405\ttest: 5.6592416\tbest: 5.6582643 (687)\ttotal: 35.1s\tremaining: 1m 55s\n",
      "800:\tlearn: 5.0507910\ttest: 5.6624402\tbest: 5.6577275 (727)\ttotal: 40.1s\tremaining: 1m 49s\n",
      "900:\tlearn: 4.9829272\ttest: 5.6605021\tbest: 5.6577275 (727)\ttotal: 45.1s\tremaining: 1m 45s\n",
      "1000:\tlearn: 4.9092391\ttest: 5.6607638\tbest: 5.6577275 (727)\ttotal: 50.1s\tremaining: 1m 40s\n",
      "1100:\tlearn: 4.8418181\ttest: 5.6651729\tbest: 5.6577275 (727)\ttotal: 55.1s\tremaining: 1m 35s\n",
      "1200:\tlearn: 4.7804974\ttest: 5.6637021\tbest: 5.6577275 (727)\ttotal: 1m\tremaining: 1m 30s\n",
      "1300:\tlearn: 4.7145235\ttest: 5.6665782\tbest: 5.6577275 (727)\ttotal: 1m 5s\tremaining: 1m 25s\n",
      "1400:\tlearn: 4.6546231\ttest: 5.6677786\tbest: 5.6577275 (727)\ttotal: 1m 10s\tremaining: 1m 20s\n",
      "1500:\tlearn: 4.5943560\ttest: 5.6709026\tbest: 5.6577275 (727)\ttotal: 1m 15s\tremaining: 1m 15s\n",
      "1600:\tlearn: 4.5359224\ttest: 5.6742553\tbest: 5.6577275 (727)\ttotal: 1m 20s\tremaining: 1m 10s\n",
      "1700:\tlearn: 4.4777601\ttest: 5.6773523\tbest: 5.6577275 (727)\ttotal: 1m 25s\tremaining: 1m 5s\n",
      "1800:\tlearn: 4.4154747\ttest: 5.6807437\tbest: 5.6577275 (727)\ttotal: 1m 30s\tremaining: 1m\n",
      "1900:\tlearn: 4.3621379\ttest: 5.6820214\tbest: 5.6577275 (727)\ttotal: 1m 36s\tremaining: 55.5s\n",
      "2000:\tlearn: 4.3101234\ttest: 5.6831544\tbest: 5.6577275 (727)\ttotal: 1m 41s\tremaining: 50.5s\n",
      "2100:\tlearn: 4.2585788\ttest: 5.6862324\tbest: 5.6577275 (727)\ttotal: 1m 46s\tremaining: 45.6s\n",
      "2200:\tlearn: 4.2051677\ttest: 5.6886087\tbest: 5.6577275 (727)\ttotal: 1m 51s\tremaining: 40.6s\n",
      "2300:\tlearn: 4.1506756\ttest: 5.6900764\tbest: 5.6577275 (727)\ttotal: 1m 56s\tremaining: 35.5s\n",
      "2400:\tlearn: 4.0985296\ttest: 5.6937200\tbest: 5.6577275 (727)\ttotal: 2m 2s\tremaining: 30.5s\n",
      "2500:\tlearn: 4.0440921\ttest: 5.6949916\tbest: 5.6577275 (727)\ttotal: 2m 7s\tremaining: 25.4s\n",
      "2600:\tlearn: 3.9960264\ttest: 5.6965881\tbest: 5.6577275 (727)\ttotal: 2m 12s\tremaining: 20.3s\n",
      "2700:\tlearn: 3.9483272\ttest: 5.7009693\tbest: 5.6577275 (727)\ttotal: 2m 17s\tremaining: 15.2s\n",
      "2800:\tlearn: 3.9059993\ttest: 5.7022113\tbest: 5.6577275 (727)\ttotal: 2m 22s\tremaining: 10.2s\n",
      "2900:\tlearn: 3.8553141\ttest: 5.7017819\tbest: 5.6577275 (727)\ttotal: 2m 28s\tremaining: 5.05s\n",
      "2999:\tlearn: 3.8100581\ttest: 5.7028884\tbest: 5.6577275 (727)\ttotal: 2m 33s\tremaining: 0us\n",
      "bestTest = 5.657727462\n",
      "bestIteration = 727\n",
      "Shrink model to first 728 iterations.\n",
      "RMSE: 5.6577275110154845\n"
     ]
    },
    {
     "name": "stderr",
     "output_type": "stream",
     "text": [
      "c:\\Users\\ferha\\.conda\\envs\\datathon\\Lib\\site-packages\\sklearn\\metrics\\_regression.py:492: FutureWarning: 'squared' is deprecated in version 1.4 and will be removed in 1.6. To calculate the root mean squared error, use the function'root_mean_squared_error'.\n",
      "  warnings.warn(\n"
     ]
    }
   ],
   "source": [
    "\n",
    "# Initialize CatBoost regressor\n",
    "model = CatBoostRegressor(\n",
    "    iterations=3000,          # Number of boosting rounds\n",
    "    learning_rate=0.1,        # Step size\n",
    "    depth=7,                  # Depth of the trees\n",
    "    cat_features=categorical_features,  # Categorical feature indices\n",
    "    verbose=100,               # Prints training progress every 100 iterations\n",
    "    task_type=\"GPU\",\n",
    "    devices='0'\n",
    ")\n",
    "\n",
    "# Train the model\n",
    "model.fit(X_train, y_train, eval_set=(X_val, y_val), use_best_model=True, plot=True)\n",
    "\n",
    "\n",
    "\n",
    "# Make predictions\n",
    "y_pred = model.predict(X_val)\n",
    "\n",
    "# Evaluate model performance\n",
    "rmse = mean_squared_error(y_val, y_pred, squared=False)\n",
    "print(f\"RMSE: {rmse}\")\n",
    "\n",
    "# Save the trained model\n",
    "model.save_model('catboost_model_x.bin')"
   ]
  },
  {
   "cell_type": "code",
   "execution_count": 7,
   "metadata": {},
   "outputs": [
    {
     "data": {
      "application/vnd.jupyter.widget-view+json": {
       "model_id": "0426018219704688964b1d4570a2bd4e",
       "version_major": 2,
       "version_minor": 0
      },
      "text/plain": [
       "MetricVisualizer(layout=Layout(align_self='stretch', height='500px'))"
      ]
     },
     "metadata": {},
     "output_type": "display_data"
    },
    {
     "name": "stdout",
     "output_type": "stream",
     "text": [
      "0:\tlearn: 16.6661189\ttest: 16.7089618\tbest: 16.7089618 (0)\ttotal: 52.5ms\tremaining: 2m 37s\n",
      "100:\tlearn: 5.6237135\ttest: 5.7337311\tbest: 5.7337311 (100)\ttotal: 5.97s\tremaining: 2m 51s\n",
      "200:\tlearn: 5.4461440\ttest: 5.6970147\tbest: 5.6965375 (195)\ttotal: 11.7s\tremaining: 2m 43s\n",
      "300:\tlearn: 5.3090347\ttest: 5.6787493\tbest: 5.6787406 (299)\ttotal: 17.4s\tremaining: 2m 36s\n",
      "400:\tlearn: 5.1884374\ttest: 5.6716518\tbest: 5.6706650 (397)\ttotal: 23.1s\tremaining: 2m 29s\n",
      "500:\tlearn: 5.0797222\ttest: 5.6672549\tbest: 5.6663698 (490)\ttotal: 28.9s\tremaining: 2m 23s\n",
      "600:\tlearn: 4.9610948\ttest: 5.6641755\tbest: 5.6635718 (563)\ttotal: 34.7s\tremaining: 2m 18s\n",
      "700:\tlearn: 4.8515345\ttest: 5.6657874\tbest: 5.6621934 (635)\ttotal: 40.5s\tremaining: 2m 12s\n",
      "800:\tlearn: 4.7363956\ttest: 5.6627754\tbest: 5.6619279 (790)\ttotal: 46.3s\tremaining: 2m 7s\n",
      "900:\tlearn: 4.6305780\ttest: 5.6651501\tbest: 5.6619279 (790)\ttotal: 52s\tremaining: 2m 1s\n",
      "1000:\tlearn: 4.5331526\ttest: 5.6735724\tbest: 5.6619279 (790)\ttotal: 57.8s\tremaining: 1m 55s\n",
      "1100:\tlearn: 4.4338894\ttest: 5.6768384\tbest: 5.6619279 (790)\ttotal: 1m 3s\tremaining: 1m 49s\n",
      "1200:\tlearn: 4.3286495\ttest: 5.6796185\tbest: 5.6619279 (790)\ttotal: 1m 9s\tremaining: 1m 44s\n",
      "1300:\tlearn: 4.2322870\ttest: 5.6866889\tbest: 5.6619279 (790)\ttotal: 1m 15s\tremaining: 1m 38s\n",
      "1400:\tlearn: 4.1287639\ttest: 5.6933490\tbest: 5.6619279 (790)\ttotal: 1m 21s\tremaining: 1m 33s\n",
      "1500:\tlearn: 4.0320015\ttest: 5.6972844\tbest: 5.6619279 (790)\ttotal: 1m 27s\tremaining: 1m 27s\n",
      "1600:\tlearn: 3.9477128\ttest: 5.7003546\tbest: 5.6619279 (790)\ttotal: 1m 33s\tremaining: 1m 21s\n",
      "1700:\tlearn: 3.8597967\ttest: 5.7049794\tbest: 5.6619279 (790)\ttotal: 1m 39s\tremaining: 1m 16s\n",
      "1800:\tlearn: 3.7783992\ttest: 5.7072684\tbest: 5.6619279 (790)\ttotal: 1m 46s\tremaining: 1m 10s\n",
      "1900:\tlearn: 3.7066757\ttest: 5.7072659\tbest: 5.6619279 (790)\ttotal: 1m 52s\tremaining: 1m 5s\n",
      "2000:\tlearn: 3.6316433\ttest: 5.7108895\tbest: 5.6619279 (790)\ttotal: 1m 59s\tremaining: 59.5s\n",
      "2100:\tlearn: 3.5618591\ttest: 5.7142267\tbest: 5.6619279 (790)\ttotal: 2m 5s\tremaining: 53.7s\n",
      "2200:\tlearn: 3.4948787\ttest: 5.7146779\tbest: 5.6619279 (790)\ttotal: 2m 11s\tremaining: 47.9s\n",
      "2300:\tlearn: 3.4269547\ttest: 5.7186112\tbest: 5.6619279 (790)\ttotal: 2m 18s\tremaining: 42s\n",
      "2400:\tlearn: 3.3550251\ttest: 5.7212745\tbest: 5.6619279 (790)\ttotal: 2m 24s\tremaining: 36.1s\n",
      "2500:\tlearn: 3.2902011\ttest: 5.7221515\tbest: 5.6619279 (790)\ttotal: 2m 31s\tremaining: 30.2s\n",
      "2600:\tlearn: 3.2301511\ttest: 5.7236373\tbest: 5.6619279 (790)\ttotal: 2m 37s\tremaining: 24.2s\n",
      "2700:\tlearn: 3.1634796\ttest: 5.7257862\tbest: 5.6619279 (790)\ttotal: 2m 44s\tremaining: 18.2s\n",
      "2800:\tlearn: 3.1003942\ttest: 5.7269135\tbest: 5.6619279 (790)\ttotal: 2m 50s\tremaining: 12.1s\n",
      "2900:\tlearn: 3.0402065\ttest: 5.7296439\tbest: 5.6619279 (790)\ttotal: 2m 56s\tremaining: 6.04s\n",
      "2999:\tlearn: 2.9850190\ttest: 5.7313819\tbest: 5.6619279 (790)\ttotal: 3m 3s\tremaining: 0us\n",
      "bestTest = 5.661927942\n",
      "bestIteration = 790\n",
      "Shrink model to first 791 iterations.\n",
      "RMSE: 5.6619279487432665\n"
     ]
    },
    {
     "name": "stderr",
     "output_type": "stream",
     "text": [
      "c:\\Users\\ferha\\.conda\\envs\\datathon\\Lib\\site-packages\\sklearn\\metrics\\_regression.py:492: FutureWarning: 'squared' is deprecated in version 1.4 and will be removed in 1.6. To calculate the root mean squared error, use the function'root_mean_squared_error'.\n",
      "  warnings.warn(\n"
     ]
    }
   ],
   "source": [
    "\n",
    "# Initialize CatBoost regressor\n",
    "model = CatBoostRegressor(\n",
    "    iterations=3000,          # Number of boosting rounds\n",
    "    learning_rate=0.1,        # Step size\n",
    "    depth=8,                  # Depth of the trees\n",
    "    cat_features=categorical_features,  # Categorical feature indices\n",
    "    verbose=100,               # Prints training progress every 100 iterations\n",
    "    task_type=\"GPU\",\n",
    "    devices='0'\n",
    ")\n",
    "\n",
    "# Train the model\n",
    "model.fit(X_train, y_train, eval_set=(X_val, y_val), use_best_model=True, plot=True)\n",
    "\n",
    "# Make predictions\n",
    "y_pred = model.predict(X_val)\n",
    "\n",
    "# Evaluate model performance\n",
    "rmse = mean_squared_error(y_val, y_pred, squared=False)\n",
    "print(f\"RMSE: {rmse}\")\n",
    "\n",
    "# Save the trained model\n",
    "model.save_model('catboost_model_x2.bin')"
   ]
  },
  {
   "cell_type": "code",
   "execution_count": 8,
   "metadata": {},
   "outputs": [
    {
     "data": {
      "application/vnd.jupyter.widget-view+json": {
       "model_id": "fd7990924c614625bba2c9ee0c740de1",
       "version_major": 2,
       "version_minor": 0
      },
      "text/plain": [
       "MetricVisualizer(layout=Layout(align_self='stretch', height='500px'))"
      ]
     },
     "metadata": {},
     "output_type": "display_data"
    },
    {
     "name": "stdout",
     "output_type": "stream",
     "text": [
      "0:\tlearn: 16.7222443\ttest: 16.7730550\tbest: 16.7730550 (0)\ttotal: 39.3ms\tremaining: 1m 57s\n",
      "100:\tlearn: 5.7602225\ttest: 5.7729295\tbest: 5.7729295 (100)\ttotal: 4.47s\tremaining: 2m 8s\n",
      "200:\tlearn: 5.6291979\ttest: 5.7059487\tbest: 5.7059487 (200)\ttotal: 8.77s\tremaining: 2m 2s\n",
      "300:\tlearn: 5.5601242\ttest: 5.6888546\tbest: 5.6888546 (300)\ttotal: 13.1s\tremaining: 1m 57s\n",
      "400:\tlearn: 5.4963716\ttest: 5.6735359\tbest: 5.6730622 (399)\ttotal: 17.6s\tremaining: 1m 53s\n",
      "500:\tlearn: 5.4459872\ttest: 5.6662104\tbest: 5.6661759 (491)\ttotal: 21.9s\tremaining: 1m 49s\n",
      "600:\tlearn: 5.3990209\ttest: 5.6633278\tbest: 5.6629650 (591)\ttotal: 26.4s\tremaining: 1m 45s\n",
      "700:\tlearn: 5.3524321\ttest: 5.6613999\tbest: 5.6612832 (680)\ttotal: 31s\tremaining: 1m 41s\n",
      "800:\tlearn: 5.3075007\ttest: 5.6550567\tbest: 5.6546848 (795)\ttotal: 35.6s\tremaining: 1m 37s\n",
      "900:\tlearn: 5.2622164\ttest: 5.6538676\tbest: 5.6528149 (892)\ttotal: 40.2s\tremaining: 1m 33s\n",
      "1000:\tlearn: 5.2226150\ttest: 5.6527591\tbest: 5.6523987 (933)\ttotal: 44.8s\tremaining: 1m 29s\n",
      "1100:\tlearn: 5.1799527\ttest: 5.6553369\tbest: 5.6523987 (933)\ttotal: 49.4s\tremaining: 1m 25s\n",
      "1200:\tlearn: 5.1367527\ttest: 5.6546015\tbest: 5.6523987 (933)\ttotal: 54.1s\tremaining: 1m 21s\n",
      "1300:\tlearn: 5.0962062\ttest: 5.6556053\tbest: 5.6523987 (933)\ttotal: 58.7s\tremaining: 1m 16s\n",
      "1400:\tlearn: 5.0572417\ttest: 5.6555851\tbest: 5.6523987 (933)\ttotal: 1m 3s\tremaining: 1m 12s\n",
      "1500:\tlearn: 5.0198942\ttest: 5.6578246\tbest: 5.6523987 (933)\ttotal: 1m 7s\tremaining: 1m 7s\n",
      "1600:\tlearn: 4.9780844\ttest: 5.6579539\tbest: 5.6523987 (933)\ttotal: 1m 12s\tremaining: 1m 3s\n",
      "1700:\tlearn: 4.9393505\ttest: 5.6587513\tbest: 5.6523987 (933)\ttotal: 1m 18s\tremaining: 59.6s\n",
      "1800:\tlearn: 4.9039337\ttest: 5.6601763\tbest: 5.6523987 (933)\ttotal: 1m 23s\tremaining: 55.3s\n",
      "1900:\tlearn: 4.8662581\ttest: 5.6643835\tbest: 5.6523987 (933)\ttotal: 1m 27s\tremaining: 50.8s\n",
      "2000:\tlearn: 4.8297103\ttest: 5.6616180\tbest: 5.6523987 (933)\ttotal: 1m 32s\tremaining: 46.2s\n",
      "2100:\tlearn: 4.7951696\ttest: 5.6617425\tbest: 5.6523987 (933)\ttotal: 1m 37s\tremaining: 41.6s\n",
      "2200:\tlearn: 4.7598050\ttest: 5.6623487\tbest: 5.6523987 (933)\ttotal: 1m 41s\tremaining: 36.9s\n",
      "2300:\tlearn: 4.7212901\ttest: 5.6627080\tbest: 5.6523987 (933)\ttotal: 1m 46s\tremaining: 32.3s\n",
      "2400:\tlearn: 4.6860671\ttest: 5.6607487\tbest: 5.6523987 (933)\ttotal: 1m 51s\tremaining: 27.7s\n",
      "2500:\tlearn: 4.6493385\ttest: 5.6599283\tbest: 5.6523987 (933)\ttotal: 1m 55s\tremaining: 23.1s\n",
      "2600:\tlearn: 4.6176290\ttest: 5.6580815\tbest: 5.6523987 (933)\ttotal: 2m\tremaining: 18.5s\n",
      "2700:\tlearn: 4.5805198\ttest: 5.6604431\tbest: 5.6523987 (933)\ttotal: 2m 5s\tremaining: 13.9s\n",
      "2800:\tlearn: 4.5451890\ttest: 5.6611575\tbest: 5.6523987 (933)\ttotal: 2m 10s\tremaining: 9.28s\n",
      "2900:\tlearn: 4.5127448\ttest: 5.6639279\tbest: 5.6523987 (933)\ttotal: 2m 15s\tremaining: 4.62s\n",
      "2999:\tlearn: 4.4799791\ttest: 5.6690219\tbest: 5.6523987 (933)\ttotal: 2m 20s\tremaining: 0us\n",
      "bestTest = 5.652398723\n",
      "bestIteration = 933\n",
      "Shrink model to first 934 iterations.\n",
      "RMSE: 5.652399239360135\n"
     ]
    },
    {
     "name": "stderr",
     "output_type": "stream",
     "text": [
      "c:\\Users\\ferha\\.conda\\envs\\datathon\\Lib\\site-packages\\sklearn\\metrics\\_regression.py:492: FutureWarning: 'squared' is deprecated in version 1.4 and will be removed in 1.6. To calculate the root mean squared error, use the function'root_mean_squared_error'.\n",
      "  warnings.warn(\n"
     ]
    }
   ],
   "source": [
    "\n",
    "# Initialize CatBoost regressor\n",
    "model = CatBoostRegressor(\n",
    "    iterations=3000,          # Number of boosting rounds\n",
    "    learning_rate=0.1,        # Step size\n",
    "    depth=6,                  # Depth of the trees\n",
    "    cat_features=categorical_features,  # Categorical feature indices\n",
    "    verbose=100,               # Prints training progress every 100 iterations\n",
    "    task_type=\"GPU\",\n",
    "    devices='0'\n",
    ")\n",
    "\n",
    "# Train the model\n",
    "model.fit(X_train, y_train, eval_set=(X_val, y_val), use_best_model=True, plot=True)\n",
    "\n",
    "# Make predictions\n",
    "y_pred = model.predict(X_val)\n",
    "\n",
    "# Evaluate model performance\n",
    "rmse = mean_squared_error(y_val, y_pred, squared=False)\n",
    "print(f\"RMSE: {rmse}\")\n",
    "\n",
    "# Save the trained model\n",
    "model.save_model('catboost_model_x3.bin')"
   ]
  },
  {
   "cell_type": "code",
   "execution_count": 9,
   "metadata": {},
   "outputs": [
    {
     "data": {
      "application/vnd.jupyter.widget-view+json": {
       "model_id": "edb867d7fb444d6097ecd03af1659ab6",
       "version_major": 2,
       "version_minor": 0
      },
      "text/plain": [
       "MetricVisualizer(layout=Layout(align_self='stretch', height='500px'))"
      ]
     },
     "metadata": {},
     "output_type": "display_data"
    },
    {
     "name": "stdout",
     "output_type": "stream",
     "text": [
      "0:\tlearn: 16.7851931\ttest: 16.8340837\tbest: 16.8340837 (0)\ttotal: 37.5ms\tremaining: 1m 52s\n",
      "100:\tlearn: 5.8368201\ttest: 5.8307301\tbest: 5.8307301 (100)\ttotal: 4.21s\tremaining: 2m\n",
      "200:\tlearn: 5.7040055\ttest: 5.7466747\tbest: 5.7466747 (200)\ttotal: 8.16s\tremaining: 1m 53s\n",
      "300:\tlearn: 5.6428007\ttest: 5.7196086\tbest: 5.7193597 (293)\ttotal: 12.1s\tremaining: 1m 48s\n",
      "400:\tlearn: 5.6008613\ttest: 5.7084989\tbest: 5.7083945 (399)\ttotal: 16.1s\tremaining: 1m 44s\n",
      "500:\tlearn: 5.5627704\ttest: 5.6977980\tbest: 5.6976133 (494)\ttotal: 19.9s\tremaining: 1m 39s\n",
      "600:\tlearn: 5.5263958\ttest: 5.6860419\tbest: 5.6857955 (598)\ttotal: 23.8s\tremaining: 1m 34s\n",
      "700:\tlearn: 5.4978350\ttest: 5.6829370\tbest: 5.6829370 (700)\ttotal: 27.9s\tremaining: 1m 31s\n",
      "800:\tlearn: 5.4683152\ttest: 5.6772921\tbest: 5.6772055 (793)\ttotal: 31.9s\tremaining: 1m 27s\n",
      "900:\tlearn: 5.4422137\ttest: 5.6705155\tbest: 5.6705155 (900)\ttotal: 35.9s\tremaining: 1m 23s\n",
      "1000:\tlearn: 5.4147992\ttest: 5.6674492\tbest: 5.6670056 (970)\ttotal: 39.9s\tremaining: 1m 19s\n",
      "1100:\tlearn: 5.3842434\ttest: 5.6665898\tbest: 5.6654810 (1064)\ttotal: 44.1s\tremaining: 1m 16s\n",
      "1200:\tlearn: 5.3534370\ttest: 5.6642056\tbest: 5.6637114 (1191)\ttotal: 48.2s\tremaining: 1m 12s\n",
      "1300:\tlearn: 5.3292823\ttest: 5.6632378\tbest: 5.6629408 (1287)\ttotal: 52.3s\tremaining: 1m 8s\n",
      "1400:\tlearn: 5.3049634\ttest: 5.6609000\tbest: 5.6600453 (1377)\ttotal: 56.2s\tremaining: 1m 4s\n",
      "1500:\tlearn: 5.2780198\ttest: 5.6582208\tbest: 5.6573840 (1488)\ttotal: 1m\tremaining: 1m\n",
      "1600:\tlearn: 5.2549451\ttest: 5.6571234\tbest: 5.6569331 (1599)\ttotal: 1m 4s\tremaining: 56s\n",
      "1700:\tlearn: 5.2321576\ttest: 5.6562136\tbest: 5.6558969 (1659)\ttotal: 1m 8s\tremaining: 51.9s\n",
      "1800:\tlearn: 5.2077629\ttest: 5.6546738\tbest: 5.6544129 (1774)\ttotal: 1m 12s\tremaining: 48s\n",
      "1900:\tlearn: 5.1855310\ttest: 5.6556087\tbest: 5.6534818 (1820)\ttotal: 1m 16s\tremaining: 44s\n",
      "2000:\tlearn: 5.1625200\ttest: 5.6586771\tbest: 5.6534818 (1820)\ttotal: 1m 20s\tremaining: 40.1s\n",
      "2100:\tlearn: 5.1370888\ttest: 5.6548539\tbest: 5.6534818 (1820)\ttotal: 1m 24s\tremaining: 36.1s\n",
      "2200:\tlearn: 5.1147246\ttest: 5.6573447\tbest: 5.6534818 (1820)\ttotal: 1m 28s\tremaining: 32.2s\n",
      "2300:\tlearn: 5.0924328\ttest: 5.6577671\tbest: 5.6534818 (1820)\ttotal: 1m 32s\tremaining: 28.2s\n",
      "2400:\tlearn: 5.0701163\ttest: 5.6568740\tbest: 5.6534818 (1820)\ttotal: 1m 36s\tremaining: 24.2s\n",
      "2500:\tlearn: 5.0473801\ttest: 5.6566863\tbest: 5.6534818 (1820)\ttotal: 1m 41s\tremaining: 20.2s\n",
      "2600:\tlearn: 5.0255771\ttest: 5.6563442\tbest: 5.6534818 (1820)\ttotal: 1m 45s\tremaining: 16.2s\n",
      "2700:\tlearn: 5.0052676\ttest: 5.6590224\tbest: 5.6534818 (1820)\ttotal: 1m 49s\tremaining: 12.1s\n",
      "2800:\tlearn: 4.9858285\ttest: 5.6584138\tbest: 5.6534818 (1820)\ttotal: 1m 53s\tremaining: 8.08s\n",
      "2900:\tlearn: 4.9649153\ttest: 5.6600093\tbest: 5.6534818 (1820)\ttotal: 1m 57s\tremaining: 4.02s\n",
      "2999:\tlearn: 4.9425750\ttest: 5.6614495\tbest: 5.6534818 (1820)\ttotal: 2m 2s\tremaining: 0us\n",
      "bestTest = 5.653481848\n",
      "bestIteration = 1820\n",
      "Shrink model to first 1821 iterations.\n",
      "RMSE: 5.653480364863314\n"
     ]
    },
    {
     "name": "stderr",
     "output_type": "stream",
     "text": [
      "c:\\Users\\ferha\\.conda\\envs\\datathon\\Lib\\site-packages\\sklearn\\metrics\\_regression.py:492: FutureWarning: 'squared' is deprecated in version 1.4 and will be removed in 1.6. To calculate the root mean squared error, use the function'root_mean_squared_error'.\n",
      "  warnings.warn(\n"
     ]
    }
   ],
   "source": [
    "\n",
    "# Initialize CatBoost regressor\n",
    "model = CatBoostRegressor(\n",
    "    iterations=3000,          # Number of boosting rounds\n",
    "    learning_rate=0.1,        # Step size\n",
    "    depth=5,                  # Depth of the trees\n",
    "    cat_features=categorical_features,  # Categorical feature indices\n",
    "    verbose=100,               # Prints training progress every 100 iterations\n",
    "    task_type=\"GPU\",\n",
    "    devices='0'\n",
    ")\n",
    "\n",
    "# Train the model\n",
    "model.fit(X_train, y_train, eval_set=(X_val, y_val), use_best_model=True, plot=True)\n",
    "\n",
    "# Make predictions\n",
    "y_pred = model.predict(X_val)\n",
    "\n",
    "# Evaluate model performance\n",
    "rmse = mean_squared_error(y_val, y_pred, squared=False)\n",
    "print(f\"RMSE: {rmse}\")\n",
    "\n",
    "# Save the trained model\n",
    "model.save_model('catboost_model_x4.bin')"
   ]
  },
  {
   "cell_type": "code",
   "execution_count": 10,
   "metadata": {},
   "outputs": [
    {
     "data": {
      "application/vnd.jupyter.widget-view+json": {
       "model_id": "b45b4a5c91554752843f4a156c02a4b9",
       "version_major": 2,
       "version_minor": 0
      },
      "text/plain": [
       "MetricVisualizer(layout=Layout(align_self='stretch', height='500px'))"
      ]
     },
     "metadata": {},
     "output_type": "display_data"
    },
    {
     "name": "stdout",
     "output_type": "stream",
     "text": [
      "0:\tlearn: 16.9814983\ttest: 17.0312381\tbest: 17.0312381 (0)\ttotal: 24.6ms\tremaining: 1m 13s\n",
      "100:\tlearn: 6.0786656\ttest: 6.0250764\tbest: 6.0250764 (100)\ttotal: 2.42s\tremaining: 1m 9s\n",
      "200:\tlearn: 5.8521968\ttest: 5.8387561\tbest: 5.8387561 (200)\ttotal: 4.68s\tremaining: 1m 5s\n",
      "300:\tlearn: 5.7821483\ttest: 5.7873140\tbest: 5.7873140 (300)\ttotal: 7.04s\tremaining: 1m 3s\n",
      "400:\tlearn: 5.7437523\ttest: 5.7642619\tbest: 5.7641980 (398)\ttotal: 9.42s\tremaining: 1m 1s\n",
      "500:\tlearn: 5.7159360\ttest: 5.7457370\tbest: 5.7457370 (500)\ttotal: 11.7s\tremaining: 58.5s\n",
      "600:\tlearn: 5.6952444\ttest: 5.7338959\tbest: 5.7335059 (596)\ttotal: 14s\tremaining: 56s\n",
      "700:\tlearn: 5.6768192\ttest: 5.7254808\tbest: 5.7254793 (699)\ttotal: 16.3s\tremaining: 53.5s\n",
      "800:\tlearn: 5.6599237\ttest: 5.7174693\tbest: 5.7172956 (796)\ttotal: 18.6s\tremaining: 51.2s\n",
      "900:\tlearn: 5.6450807\ttest: 5.7124261\tbest: 5.7123981 (899)\ttotal: 20.9s\tremaining: 48.8s\n",
      "1000:\tlearn: 5.6351132\ttest: 5.7110105\tbest: 5.7109758 (999)\ttotal: 23.2s\tremaining: 46.4s\n",
      "1100:\tlearn: 5.6254433\ttest: 5.7079759\tbest: 5.7079759 (1100)\ttotal: 25.6s\tremaining: 44.1s\n",
      "1200:\tlearn: 5.6117550\ttest: 5.7026337\tbest: 5.7024692 (1195)\ttotal: 27.8s\tremaining: 41.7s\n",
      "1300:\tlearn: 5.6017640\ttest: 5.7001566\tbest: 5.7000747 (1293)\ttotal: 30.1s\tremaining: 39.4s\n",
      "1400:\tlearn: 5.5920649\ttest: 5.6936869\tbest: 5.6936869 (1400)\ttotal: 32.5s\tremaining: 37.1s\n",
      "1500:\tlearn: 5.5818048\ttest: 5.6901087\tbest: 5.6901087 (1500)\ttotal: 34.8s\tremaining: 34.8s\n",
      "1600:\tlearn: 5.5738322\ttest: 5.6876375\tbest: 5.6872262 (1593)\ttotal: 37.1s\tremaining: 32.5s\n",
      "1700:\tlearn: 5.5649274\ttest: 5.6869688\tbest: 5.6865967 (1652)\ttotal: 39.5s\tremaining: 30.2s\n",
      "1800:\tlearn: 5.5580912\ttest: 5.6861771\tbest: 5.6858482 (1745)\ttotal: 41.8s\tremaining: 27.8s\n",
      "1900:\tlearn: 5.5488111\ttest: 5.6826009\tbest: 5.6824907 (1894)\ttotal: 44.2s\tremaining: 25.5s\n",
      "2000:\tlearn: 5.5414796\ttest: 5.6819462\tbest: 5.6818183 (1988)\ttotal: 46.5s\tremaining: 23.2s\n",
      "2100:\tlearn: 5.5327463\ttest: 5.6812374\tbest: 5.6805898 (2070)\ttotal: 48.8s\tremaining: 20.9s\n",
      "2200:\tlearn: 5.5251399\ttest: 5.6796527\tbest: 5.6790195 (2181)\ttotal: 51.2s\tremaining: 18.6s\n",
      "2300:\tlearn: 5.5183610\ttest: 5.6796590\tbest: 5.6788982 (2226)\ttotal: 53.5s\tremaining: 16.2s\n",
      "2400:\tlearn: 5.5103913\ttest: 5.6792788\tbest: 5.6788982 (2226)\ttotal: 55.8s\tremaining: 13.9s\n",
      "2500:\tlearn: 5.5034399\ttest: 5.6783709\tbest: 5.6777179 (2488)\ttotal: 58.1s\tremaining: 11.6s\n",
      "2600:\tlearn: 5.4959735\ttest: 5.6774840\tbest: 5.6773137 (2592)\ttotal: 1m\tremaining: 9.27s\n",
      "2700:\tlearn: 5.4887581\ttest: 5.6765162\tbest: 5.6764293 (2694)\ttotal: 1m 2s\tremaining: 6.94s\n",
      "2800:\tlearn: 5.4811426\ttest: 5.6766138\tbest: 5.6764293 (2694)\ttotal: 1m 5s\tremaining: 4.62s\n",
      "2900:\tlearn: 5.4744609\ttest: 5.6761241\tbest: 5.6752371 (2874)\ttotal: 1m 7s\tremaining: 2.29s\n",
      "2999:\tlearn: 5.4675160\ttest: 5.6743729\tbest: 5.6743729 (2999)\ttotal: 1m 9s\tremaining: 0us\n",
      "bestTest = 5.674372888\n",
      "bestIteration = 2999\n",
      "RMSE: 5.674372937007728\n"
     ]
    },
    {
     "name": "stderr",
     "output_type": "stream",
     "text": [
      "c:\\Users\\ferha\\.conda\\envs\\datathon\\Lib\\site-packages\\sklearn\\metrics\\_regression.py:492: FutureWarning: 'squared' is deprecated in version 1.4 and will be removed in 1.6. To calculate the root mean squared error, use the function'root_mean_squared_error'.\n",
      "  warnings.warn(\n"
     ]
    }
   ],
   "source": [
    "\n",
    "# Initialize CatBoost regressor\n",
    "model = CatBoostRegressor(\n",
    "    iterations=3000,          # Number of boosting rounds\n",
    "    learning_rate=0.1,        # Step size\n",
    "    depth=3,                  # Depth of the trees\n",
    "    cat_features=categorical_features,  # Categorical feature indices\n",
    "    verbose=100,               # Prints training progress every 100 iterations\n",
    "    task_type=\"GPU\",\n",
    "    devices='0'\n",
    ")\n",
    "\n",
    "# Train the model\n",
    "model.fit(X_train, y_train, eval_set=(X_val, y_val), use_best_model=True, plot=True)\n",
    "\n",
    "# Make predictions\n",
    "y_pred = model.predict(X_val)\n",
    "\n",
    "# Evaluate model performance\n",
    "rmse = mean_squared_error(y_val, y_pred, squared=False)\n",
    "print(f\"RMSE: {rmse}\")\n",
    "\n",
    "# Save the trained model\n",
    "model.save_model('catboost_model_x5.bin')"
   ]
  }
 ],
 "metadata": {
  "kernelspec": {
   "display_name": "datathon",
   "language": "python",
   "name": "python3"
  },
  "language_info": {
   "codemirror_mode": {
    "name": "ipython",
    "version": 3
   },
   "file_extension": ".py",
   "mimetype": "text/x-python",
   "name": "python",
   "nbconvert_exporter": "python",
   "pygments_lexer": "ipython3",
   "version": "3.11.9"
  }
 },
 "nbformat": 4,
 "nbformat_minor": 2
}
