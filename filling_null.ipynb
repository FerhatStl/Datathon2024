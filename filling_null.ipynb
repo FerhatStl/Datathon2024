{
 "cells": [
  {
   "cell_type": "code",
   "execution_count": 1,
   "metadata": {},
   "outputs": [],
   "source": [
    "from sklearn.impute import KNNImputer\n",
    "import pandas as pd\n",
    "import numpy as np\n",
    "\n",
    "def knn_impute(df, n_neighbors=5):\n",
    "    non_empty_columns = df.columns[df.isnull().mean() < 1.0]\n",
    "    df_reduced = df[non_empty_columns].copy()\n",
    "\n",
    "    for col in df_reduced.select_dtypes(include='object').columns:\n",
    "        df_reduced[col] = df_reduced[col].astype('category').cat.codes\n",
    "\n",
    "    knn_imputer = KNNImputer(n_neighbors=n_neighbors)\n",
    "    df_imputed = pd.DataFrame(knn_imputer.fit_transform(df_reduced), columns=df_reduced.columns)\n",
    "    \n",
    "    for col in df.select_dtypes(include='object').columns:\n",
    "        if col in df_reduced.columns:\n",
    "            df_imputed[col] = df_imputed[col].round().astype(int).map(\n",
    "                dict(enumerate(df[col].astype('category').cat.categories))\n",
    "            )\n",
    "    \n",
    "    for col in df.columns:\n",
    "        if col not in df_imputed.columns:\n",
    "            df_imputed[col] = np.nan\n",
    "    \n",
    "    df_imputed = df_imputed[df.columns]\n",
    "    \n",
    "    return df_imputed"
   ]
  },
  {
   "cell_type": "code",
   "execution_count": 2,
   "metadata": {},
   "outputs": [
    {
     "name": "stderr",
     "output_type": "stream",
     "text": [
      "C:\\Users\\ferha\\AppData\\Local\\Temp\\ipykernel_9920\\2044820398.py:1: DtypeWarning: Columns (13,15,19,32,37,42) have mixed types. Specify dtype option on import or set low_memory=False.\n",
      "  df = pd.read_csv('processed_train_data.csv')\n"
     ]
    }
   ],
   "source": [
    "df = pd.read_csv('processed_train_data.csv')\n",
    "\n",
    "df.drop(columns=['Dogum Yili', 'Dogum Tarihi',\"Hangi STK'nin Uyesisiniz?\", \"Uye Oldugunuz Kulubun Ismi\",\n",
    "    \"Girisimcilikle Ilgili Deneyiminizi Aciklayabilir misiniz?\",\"Spor Dalindaki Rolunuz Nedir?\",'Lise Adi Diger',\n",
    "    'Lise Bolum Diger','Lise Adi', 'Lise Bolumu', 'Lise Sehir','Baska Kurumdan Aldigi Burs Miktari'], inplace=True)\n",
    "\n",
    "df_train_imputed = knn_impute(df, n_neighbors=5)\n",
    "df_train_imputed.to_csv('train_imputed.csv', index=False)"
   ]
  }
 ],
 "metadata": {
  "kernelspec": {
   "display_name": "datathon",
   "language": "python",
   "name": "python3"
  },
  "language_info": {
   "codemirror_mode": {
    "name": "ipython",
    "version": 3
   },
   "file_extension": ".py",
   "mimetype": "text/x-python",
   "name": "python",
   "nbconvert_exporter": "python",
   "pygments_lexer": "ipython3",
   "version": "3.11.9"
  }
 },
 "nbformat": 4,
 "nbformat_minor": 2
}
